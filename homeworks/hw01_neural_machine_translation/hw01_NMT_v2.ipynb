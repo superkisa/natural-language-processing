{
  "cells": [
    {
      "cell_type": "markdown",
      "metadata": {
        "id": "afRbRBZLU0FH"
      },
      "source": [
        "## Lab assignment 02"
      ]
    },
    {
      "cell_type": "markdown",
      "metadata": {
        "id": "n6TtCgZxU0FJ"
      },
      "source": [
        "### Neural Machine Translation in the wild\n",
        "In the third homework you are supposed to get the best translation you can for the EN-RU translation task.\n",
        "\n",
        "Basic approach using RNNs as encoder and decoder is implemented for you.\n",
        "\n",
        "Your ultimate task is to use the techniques we've covered, e.g.\n",
        "\n",
        "* Optimization enhancements (e.g. learning rate decay)\n",
        "\n",
        "* CNN encoder (with or without positional encoding)\n",
        "\n",
        "* attention/self-attention mechanism\n",
        "\n",
        "* pretraining the language model\n",
        "\n",
        "* [Byte Pair Encoding](https://github.com/rsennrich/subword-nmt)\n",
        "\n",
        "* or just fine-tunning BERT ;)\n",
        "\n",
        "to improve the translation quality.\n",
        "\n",
        "__Please use at least three different approaches/models and compare them (translation quality/complexity/training and evaluation time).__\n",
        "\n",
        "Write down some summary on your experiments and illustrate it with convergence plots/metrics and your thoughts. Just like you would approach a real problem."
      ]
    },
    {
      "cell_type": "code",
      "execution_count": 5,
      "metadata": {
        "id": "IzxTcpUKU0FK"
      },
      "outputs": [],
      "source": [
        "# You might need to install the libraries below. Do it in the desired environment\n",
        "# if you are working locally.\n",
        "\n",
        "# ! pip install subword-nmt\n",
        "# ! pip install nltk\n",
        "# ! pip install torchtext"
      ]
    },
    {
      "cell_type": "code",
      "execution_count": 6,
      "metadata": {
        "colab": {
          "base_uri": "https://localhost:8080/"
        },
        "id": "taMTg9opj7cZ",
        "outputId": "58922b26-7848-48c0-8204-1fc1aa22c681"
      },
      "outputs": [
        {
          "data": {
            "text/plain": [
              "False"
            ]
          },
          "execution_count": 6,
          "metadata": {},
          "output_type": "execute_result"
        }
      ],
      "source": [
        "import os\n",
        "import sys\n",
        "\n",
        "IN_COLAB = \"google.colab\" in sys.modules\n",
        "IN_COLAB"
      ]
    },
    {
      "cell_type": "code",
      "execution_count": 7,
      "metadata": {
        "id": "rKNwRwPxVJ83"
      },
      "outputs": [],
      "source": [
        "if IN_COLAB and os.getcwd() == \"/content\":\n",
        "    # Clone the entire repo.\n",
        "    !git clone https://github.com/superkisa/natural-language-processing.git -b 23f_msai --single-branch\n",
        "    %cd natural-language-processing\n",
        "    !ls\n",
        "\n",
        "    !pip install torchtext==0.6.0 subword_nmt nltk\n",
        "    sys.path.append(\"/content/natural-language-processing/homeworks/hw01_neural_machine_translation\")"
      ]
    },
    {
      "cell_type": "code",
      "execution_count": 8,
      "metadata": {
        "colab": {
          "base_uri": "https://localhost:8080/"
        },
        "id": "6WvyEZJKU0FL",
        "outputId": "d108a308-8bbe-4076-ea8f-af6197facb46"
      },
      "outputs": [],
      "source": [
        "# Thanks to YSDA NLP course team for the data\n",
        "# (who thanks tilda and deephack teams for the data in their turn)\n",
        "\n",
        "import os\n",
        "path_do_data = './homeworks/hw01_neural_machine_translation/data/data.txt'\n",
        "if not os.path.exists(path_do_data):\n",
        "    print(\"Dataset not found locally. Downloading from github.\")\n",
        "    !wget https://raw.githubusercontent.com/neychev/made_nlp_course/master/datasets/Machine_translation_EN_RU/data.txt -nc -O homeworks/hw01_neural_machine_translation/data/data.txt\n",
        "    # path_do_data = './data.txt'"
      ]
    },
    {
      "cell_type": "code",
      "execution_count": 9,
      "metadata": {
        "id": "PHJUfpTwU0FM"
      },
      "outputs": [],
      "source": [
        "import torch\n",
        "import torch.nn as nn\n",
        "import torch.optim as optim\n",
        "\n",
        "import torchtext\n",
        "from torchtext.data import Field, BucketIterator\n",
        "\n",
        "# import spacy\n",
        "\n",
        "import random\n",
        "import math\n",
        "import time\n",
        "\n",
        "import matplotlib\n",
        "matplotlib.rcParams.update({'figure.figsize': (16, 12), 'font.size': 14})\n",
        "import matplotlib.pyplot as plt\n",
        "%matplotlib inline\n",
        "from IPython.display import clear_output\n",
        "\n",
        "from nltk.tokenize import WordPunctTokenizer\n",
        "from subword_nmt.learn_bpe import learn_bpe\n",
        "from subword_nmt.apply_bpe import BPE\n"
      ]
    },
    {
      "cell_type": "markdown",
      "metadata": {
        "id": "3K1rsJ67U0FM"
      },
      "source": [
        "### Main part\n",
        "__Here comes the preprocessing. Do not hesitate to use BPE or more complex preprocessing ;)__"
      ]
    },
    {
      "cell_type": "code",
      "execution_count": null,
      "metadata": {},
      "outputs": [],
      "source": []
    },
    {
      "cell_type": "code",
      "execution_count": 10,
      "metadata": {
        "id": "8SKQnNAMj7cf"
      },
      "outputs": [
        {
          "data": {
            "text/plain": [
              "device(type='cuda')"
            ]
          },
          "execution_count": 10,
          "metadata": {},
          "output_type": "execute_result"
        }
      ],
      "source": [
        "device = torch.device(\"cuda\" if torch.cuda.is_available() else \"cpu\")\n",
        "device"
      ]
    },
    {
      "cell_type": "code",
      "execution_count": 11,
      "metadata": {
        "id": "Um9Gs39DU0FN"
      },
      "outputs": [],
      "source": [
        "tokenizer_W = WordPunctTokenizer()\n",
        "\n",
        "\n",
        "def tokenize(x, tokenizer=tokenizer_W):\n",
        "    x = x.lower()\n",
        "    x = x.replace(\",\", \"\")  # remove commas\n",
        "    x = x.replace(\"'s\", \"\")  # remove \"'s\"\n",
        "    x = x.replace(\"'\", \"\")  # remove apostrophes\n",
        "    return tokenizer.tokenize(x)"
      ]
    },
    {
      "cell_type": "code",
      "execution_count": 12,
      "metadata": {
        "id": "6PTFk0H9U0FN"
      },
      "outputs": [],
      "source": [
        "SRC = Field(\n",
        "    tokenize=tokenize,\n",
        "    init_token=\"<sos>\",\n",
        "    eos_token=\"<eos>\",\n",
        "    lower=True,\n",
        ")\n",
        "\n",
        "TRG = Field(\n",
        "    tokenize=tokenize,\n",
        "    init_token=\"<sos>\",\n",
        "    eos_token=\"<eos>\",\n",
        "    lower=True,\n",
        ")\n",
        "\n",
        "dataset = torchtext.data.TabularDataset(\n",
        "    path=path_do_data, format=\"tsv\", fields=[(\"trg\", TRG), (\"src\", SRC)]\n",
        ")"
      ]
    },
    {
      "cell_type": "code",
      "execution_count": 13,
      "metadata": {},
      "outputs": [
        {
          "data": {
            "text/plain": [
              "<torchtext.data.example.Example at 0x1ee0e0ddd50>"
            ]
          },
          "execution_count": 13,
          "metadata": {},
          "output_type": "execute_result"
        }
      ],
      "source": [
        "dataset.examples[0]"
      ]
    },
    {
      "cell_type": "code",
      "execution_count": 14,
      "metadata": {},
      "outputs": [
        {
          "data": {
            "text/plain": [
              "(('отель', 'cordelia'),\n",
              " ('cordelia', 'hotel'),\n",
              " ('расположен', 'is'),\n",
              " ('в', 'situated'),\n",
              " ('тбилиси', 'in'),\n",
              " ('в', 'tbilisi'),\n",
              " ('3', 'a'),\n",
              " ('минутах', '3'),\n",
              " ('ходьбы', '-'),\n",
              " ('от', 'minute'),\n",
              " ('свято', 'walk'),\n",
              " ('-', 'away'),\n",
              " ('троицкого', 'from'),\n",
              " ('собора', 'saint'),\n",
              " ('.', 'trinity'),\n",
              " (None, 'church'),\n",
              " (None, '.'))"
            ]
          },
          "execution_count": 14,
          "metadata": {},
          "output_type": "execute_result"
        }
      ],
      "source": [
        "from itertools import zip_longest\n",
        "\n",
        "\n",
        "tuple(zip_longest(dataset.examples[0].src, dataset.examples[0].trg))"
      ]
    },
    {
      "cell_type": "code",
      "execution_count": 15,
      "metadata": {
        "id": "83iVAOiqU0FO"
      },
      "outputs": [],
      "source": [
        "train_data, valid_data, test_data = dataset.split(\n",
        "    split_ratio=[0.8, 0.15, 0.05], # type: ignore\n",
        ")"
      ]
    },
    {
      "cell_type": "code",
      "execution_count": 16,
      "metadata": {
        "colab": {
          "base_uri": "https://localhost:8080/"
        },
        "id": "5dwoB7sqU0FO",
        "outputId": "646c56eb-85e9-45dd-e6df-35eb4eb291d9"
      },
      "outputs": [
        {
          "name": "stdout",
          "output_type": "stream",
          "text": [
            "Number of training examples: 40000\n",
            "Number of validation examples: 2500\n",
            "Number of testing examples: 7500\n"
          ]
        }
      ],
      "source": [
        "print(f\"Number of training examples: {len(train_data.examples)}\")  # type: ignore\n",
        "print(f\"Number of validation examples: {len(valid_data.examples)}\")  # type: ignore\n",
        "print(f\"Number of testing examples: {len(test_data.examples)}\")  # type: ignore"
      ]
    },
    {
      "cell_type": "code",
      "execution_count": 17,
      "metadata": {
        "id": "8MWHkBcFU0FO"
      },
      "outputs": [],
      "source": [
        "SRC.build_vocab(train_data, min_freq = 3)\n",
        "TRG.build_vocab(train_data, min_freq = 3)"
      ]
    },
    {
      "cell_type": "code",
      "execution_count": 18,
      "metadata": {
        "id": "yFRK-PM1U0FO"
      },
      "outputs": [
        {
          "name": "stdout",
          "output_type": "stream",
          "text": [
            "Unique tokens in source (ru) vocabulary: 9277\n",
            "Unique tokens in target (en) vocabulary: 6718\n"
          ]
        }
      ],
      "source": [
        "print(f\"Unique tokens in source (ru) vocabulary: {len(SRC.vocab)}\")\n",
        "print(f\"Unique tokens in target (en) vocabulary: {len(TRG.vocab)}\")"
      ]
    },
    {
      "cell_type": "markdown",
      "metadata": {
        "id": "aWD1yL2Z2_Gw"
      },
      "source": [
        "## experiment1\n"
      ]
    },
    {
      "cell_type": "code",
      "execution_count": 19,
      "metadata": {
        "id": "DkD-pUkv23Bm"
      },
      "outputs": [],
      "source": [
        "from gensim.models import Word2Vec"
      ]
    },
    {
      "cell_type": "code",
      "execution_count": 20,
      "metadata": {
        "id": "ggNPp4Q1Ep0k"
      },
      "outputs": [],
      "source": [
        "russian_sentences = [vars(example)[\"src\"] for example in dataset.examples]\n",
        "english_sentences = [vars(example)[\"trg\"] for example in dataset.examples]"
      ]
    },
    {
      "cell_type": "code",
      "execution_count": 21,
      "metadata": {
        "id": "vRJEtiVF4ISY"
      },
      "outputs": [],
      "source": [
        "english_model = Word2Vec(english_sentences, vector_size=256, window=3, min_count=1, workers=8)\n",
        "russian_model = Word2Vec(russian_sentences, vector_size=256, window=3, min_count=1, workers=8)\n",
        "\n",
        "english_model.save(\"./homeworks/hw01_neural_machine_translation/models/english_model\")\n",
        "russian_model.save(\"./homeworks/hw01_neural_machine_translation/models/russian_model\")"
      ]
    },
    {
      "cell_type": "code",
      "execution_count": 22,
      "metadata": {
        "colab": {
          "base_uri": "https://localhost:8080/"
        },
        "id": "XZ1E6IPPFNmS",
        "outputId": "c099c12a-9d16-4c12-c146-56a9a44f3ecc"
      },
      "outputs": [
        {
          "data": {
            "text/plain": [
              "array([ 3.34841162e-02, -3.78065743e-02,  5.16786836e-02,  3.44258212e-02,\n",
              "        1.57055065e-01, -9.65010375e-03, -5.00261299e-02, -6.51955605e-02,\n",
              "       -4.37343493e-02,  1.25530869e-01, -1.05809234e-02,  1.00422315e-01,\n",
              "       -7.90929422e-02, -1.55093953e-01,  1.30738644e-02,  9.96186733e-02,\n",
              "        5.84779605e-02,  2.22440921e-02, -4.29774933e-02,  2.44122684e-01,\n",
              "        7.72000551e-02,  3.40040686e-04, -1.13671564e-01, -1.65545642e-01,\n",
              "       -2.25835308e-01,  1.86431035e-02, -8.87511298e-02,  2.74836998e-02,\n",
              "       -1.75939977e-01, -6.24125972e-02,  3.04859579e-02,  1.03486650e-01,\n",
              "       -7.56123960e-02, -8.41574743e-02, -5.78395575e-02,  2.31747031e-01,\n",
              "        1.64364606e-01, -1.63236544e-01,  1.56057954e-01, -6.12050965e-02,\n",
              "       -1.87724773e-02,  2.25047588e-01, -1.43975109e-01, -1.47885010e-01,\n",
              "        1.43543363e-01, -1.50127485e-01, -2.23463960e-03, -2.97084693e-02,\n",
              "        8.32090825e-02,  6.44445047e-02,  2.81755608e-02,  6.73080161e-02,\n",
              "        2.65164282e-02,  3.31617072e-02,  2.88377739e-02, -1.10635765e-01,\n",
              "       -2.52688937e-02, -9.79621112e-02,  7.03795552e-02,  2.20983356e-01,\n",
              "       -1.56051274e-02,  1.61949933e-01, -1.31809980e-01,  1.10692017e-01,\n",
              "        1.55176595e-01,  5.19868284e-02,  1.49710793e-02,  1.62387192e-01,\n",
              "       -4.18613777e-02, -6.58974797e-02,  7.93621540e-02, -7.36655528e-03,\n",
              "        3.29365842e-02, -1.44928500e-01,  7.20358035e-03,  2.04413576e-04,\n",
              "       -1.03874147e-01, -5.55227995e-02,  6.21196441e-03,  2.39910066e-01,\n",
              "       -7.72629604e-02, -2.48238742e-01,  6.38512969e-02,  1.58758715e-01,\n",
              "        6.70405477e-02,  1.14916317e-01,  9.58291069e-02, -1.73860401e-01,\n",
              "       -4.58864048e-02, -6.00079522e-02,  8.71715322e-02, -1.72403619e-01,\n",
              "       -1.00530289e-01, -3.50087807e-02,  2.85427850e-02,  1.08931653e-01,\n",
              "       -2.43695199e-01, -1.77284896e-01, -1.85318049e-02, -4.67110872e-02,\n",
              "       -1.80920303e-01,  1.79809537e-02, -3.16744931e-02,  1.41278967e-01,\n",
              "        7.91499168e-02, -7.27845058e-02, -4.80535030e-02, -3.39868031e-02,\n",
              "        1.28083274e-01, -1.36850014e-01,  8.47654194e-02, -3.37340310e-02,\n",
              "       -2.99272127e-02,  1.07786376e-02, -8.03284422e-02, -5.62146157e-02,\n",
              "       -1.43418442e-02,  1.63676575e-01,  7.36501440e-02,  1.04698211e-01,\n",
              "        4.16022399e-03, -2.12575439e-02, -3.92292403e-02, -1.00496314e-01,\n",
              "       -8.52120593e-02, -1.00191973e-01,  8.23752806e-02,  7.84389079e-02,\n",
              "        5.21876588e-02,  4.68197875e-02,  3.57399620e-02, -6.78328350e-02,\n",
              "        9.59537774e-02,  2.39215624e-02, -1.39411569e-01, -3.06343585e-02,\n",
              "        4.44442891e-02,  7.77978674e-02,  1.45418316e-01,  2.33824197e-02,\n",
              "       -5.10590002e-02,  5.20392461e-03,  1.72247589e-01,  5.71436062e-02,\n",
              "       -3.11324447e-01, -5.35135046e-02, -8.43677148e-02, -1.83621719e-02,\n",
              "        1.24508865e-01,  1.39525741e-01, -1.45963266e-01, -8.46746117e-02,\n",
              "       -1.07557543e-01,  9.79497358e-02, -1.57741353e-01,  7.83391967e-02,\n",
              "        9.71746743e-02, -2.55399547e-03, -7.85868317e-02,  1.01451408e-02,\n",
              "        6.60903752e-02, -1.22664974e-03,  9.77667272e-02,  8.34579393e-03,\n",
              "        1.30409673e-01,  8.58704746e-02, -2.48932876e-02,  1.01024278e-01,\n",
              "        1.66586086e-01,  7.27421790e-03,  2.25787871e-02, -9.71238539e-02,\n",
              "        5.55734299e-02, -5.05757742e-02, -4.18586694e-02,  1.79189369e-02,\n",
              "       -5.86439148e-02,  6.02863319e-02,  1.31931379e-01, -1.55345760e-02,\n",
              "        6.00688197e-02,  3.26490030e-02,  4.61271178e-04,  2.00122043e-01,\n",
              "        5.35749681e-02,  2.98672877e-02, -1.33254111e-01, -2.23717224e-02,\n",
              "       -9.29048359e-02, -2.55606677e-02,  1.32287830e-01,  2.58096624e-02,\n",
              "        1.78646535e-01, -2.47997157e-02,  9.01153460e-02, -5.80012836e-02,\n",
              "       -3.54088321e-02, -2.43786246e-01, -4.57640961e-02, -5.07673137e-02,\n",
              "       -8.94648433e-02,  7.97707289e-02,  1.03648797e-01, -1.29978999e-01,\n",
              "       -3.67120020e-02,  9.46771204e-02,  5.66195399e-02, -1.55218437e-01,\n",
              "       -4.51386496e-02, -2.38639861e-02, -2.86315791e-02,  7.02032596e-02,\n",
              "       -3.08452584e-02,  1.39067680e-01, -3.91887836e-02,  8.22842270e-02,\n",
              "        1.44943193e-01,  4.74551730e-02, -1.89392403e-01,  1.38265461e-01,\n",
              "        1.39062069e-02,  6.82515238e-05,  6.28419816e-02, -7.52985477e-02,\n",
              "        4.81077731e-02, -6.17743097e-02,  4.12878506e-02,  1.52623020e-02,\n",
              "       -5.66830449e-02,  7.10224286e-02, -7.37741590e-02,  1.64278522e-02,\n",
              "       -8.30825418e-03,  3.56255006e-03,  4.54071462e-02, -1.12654604e-02,\n",
              "        1.82737503e-02, -3.25686857e-02,  9.55580249e-02, -8.59372765e-02,\n",
              "       -8.80887359e-02, -7.71316662e-02,  9.72497687e-02,  3.55861709e-02,\n",
              "       -7.74918795e-02,  3.83516662e-02,  1.02689937e-01, -2.49341503e-02,\n",
              "        5.17960899e-02, -1.31552100e-01, -1.91707406e-02,  6.45163730e-02,\n",
              "       -1.60907939e-01,  4.98445034e-02, -1.41648695e-01,  2.03722585e-02],\n",
              "      dtype=float32)"
            ]
          },
          "execution_count": 22,
          "metadata": {},
          "output_type": "execute_result"
        }
      ],
      "source": [
        "english_model.wv[\"king\"]"
      ]
    },
    {
      "cell_type": "code",
      "execution_count": 21,
      "metadata": {
        "colab": {
          "base_uri": "https://localhost:8080/"
        },
        "id": "FYfnKmneGG0c",
        "outputId": "6309ac08-c7ac-411e-a36f-ca836b6f8984"
      },
      "outputs": [
        {
          "data": {
            "text/plain": [
              "array([ 0.2767559 , -0.5807589 ,  0.39435902,  0.41316146,  0.67613846,\n",
              "       -0.03727266,  0.22882041, -0.0705124 ,  0.60452855,  1.2622632 ,\n",
              "       -0.31476504,  0.5234098 , -0.46685538, -0.7685919 , -0.08855101,\n",
              "        0.5342506 ,  0.5461749 ,  0.06933086, -0.13270493,  0.36667058,\n",
              "        0.7515794 ,  0.71428037,  0.3121768 , -0.12607875, -0.6630366 ,\n",
              "        0.5434451 , -0.15998599,  0.7111316 , -0.2212415 , -0.8528515 ,\n",
              "       -0.0526377 ,  0.37803593,  0.07914951,  0.28810883, -0.5405651 ,\n",
              "        0.5195915 ,  0.50736654, -0.78058845, -0.29305562, -0.9891441 ,\n",
              "       -0.22815076,  0.3638698 , -0.19262363, -0.51678336, -0.12929298,\n",
              "        0.6330007 ,  0.56129885,  0.16173172, -0.09317743, -0.5956281 ,\n",
              "       -0.76306826,  0.2895572 , -0.25902426,  0.6523626 ,  0.23678853,\n",
              "       -0.00983779,  0.5006967 ,  0.8251933 ,  0.29330823,  0.06370146,\n",
              "        0.4534455 ,  0.38184506,  0.3598398 ,  1.0414932 ,  0.9472373 ,\n",
              "       -0.18848103,  0.5007621 ,  0.27848518,  0.09490388,  0.67201847,\n",
              "       -0.1537652 ,  0.2646787 , -0.06768008,  0.39801428, -0.4489092 ,\n",
              "       -0.47329336, -0.790542  ,  0.6371092 ,  0.39558017,  0.3489712 ,\n",
              "       -0.57057697, -0.48499483, -0.00130022,  0.24188192,  0.9386047 ,\n",
              "        0.4333371 , -0.07897288, -0.40034196,  0.32390046,  0.08526   ,\n",
              "       -0.40593004,  0.98573506,  0.25099537,  0.2696257 ,  0.5421785 ,\n",
              "        0.9566605 , -0.52480966, -0.20274296, -0.49512428,  0.17853443,\n",
              "        1.0382746 ,  0.3856919 ,  0.16996686, -0.5615686 ,  0.23573448,\n",
              "       -0.254678  , -0.04589736,  0.7061071 ,  1.1753831 ,  0.09995384,\n",
              "       -0.03779562, -0.0703155 ,  0.44568217, -0.2845841 , -0.02672762,\n",
              "        0.24551104, -0.04797273, -0.04934454, -0.47317466, -0.01993757,\n",
              "       -0.9286948 , -0.20936897,  0.07636833, -0.49890164, -0.33972144,\n",
              "       -0.20218724,  0.2617599 , -0.6906875 , -0.2582115 , -0.29482383,\n",
              "       -0.30464417,  0.25049683, -0.30204165, -0.08511826,  0.26795086,\n",
              "       -0.3997959 ,  0.3036411 , -0.21436042,  0.21424475, -0.49272534,\n",
              "        0.0978808 , -0.3206432 ,  1.0144165 , -0.06372398, -0.98450416,\n",
              "       -1.1760986 , -0.26915824,  0.46511075, -0.35529423,  1.1822445 ,\n",
              "       -0.53823197,  0.01956713, -0.94778395,  0.02612221, -0.2868109 ,\n",
              "       -0.34764466,  0.42150202,  0.13094337, -0.11045585,  0.7632601 ,\n",
              "       -0.7609689 , -0.14801475, -0.22626404, -0.41168678, -0.46482477,\n",
              "        0.27235562,  0.31375915, -0.06117686, -0.4274689 ,  0.2041956 ,\n",
              "        0.88993096,  0.2856326 , -0.4800492 ,  0.37362915, -0.7597113 ,\n",
              "        0.68681026,  0.59049356,  0.05280589,  0.11573898, -0.49526787,\n",
              "        0.09933348, -0.39778966,  0.63418263,  1.0409908 ,  1.2262721 ,\n",
              "       -0.08721634, -0.24720037, -0.20934755,  0.56021494, -0.46155983,\n",
              "        0.08055479, -0.7105333 ,  0.02962081, -0.29519668, -0.10555654,\n",
              "       -0.07784654, -0.0752497 , -0.755582  , -0.05631766, -0.88844424,\n",
              "       -0.763482  , -0.386764  ,  0.56543726, -0.60725147,  0.9631584 ,\n",
              "       -0.3757837 ,  0.29933017,  0.3575568 ,  0.15568829, -0.773778  ,\n",
              "       -0.04313484,  0.64493173,  0.00751886,  0.32250535, -0.22808091,\n",
              "       -0.19416313,  0.15204461,  0.36807287, -0.6726272 ,  0.28889197,\n",
              "       -0.36102846,  0.621188  , -0.18210348,  0.06335565,  0.24039361,\n",
              "       -0.195585  , -0.14988136, -0.25004467, -1.0354003 , -0.048181  ,\n",
              "       -0.13267545,  0.531142  ,  0.16133128,  0.26381636, -0.31767368,\n",
              "        0.14668344,  0.01333365, -0.33152303,  0.2931862 ,  0.065431  ,\n",
              "        0.3420884 ,  0.14385717,  0.34640002,  0.3893285 ,  0.5574049 ,\n",
              "       -0.08665068,  0.40881503, -0.24271631, -0.24424274,  0.2427715 ,\n",
              "       -0.7279568 ,  1.0489304 , -1.1576102 , -0.25977802,  0.33179295,\n",
              "       -0.66724175], dtype=float32)"
            ]
          },
          "execution_count": 21,
          "metadata": {},
          "output_type": "execute_result"
        }
      ],
      "source": [
        "russian_model.wv[\"город\"]"
      ]
    },
    {
      "cell_type": "code",
      "execution_count": 32,
      "metadata": {},
      "outputs": [
        {
          "data": {
            "text/plain": [
              "{'.': 0,\n",
              " 'a': 1,\n",
              " 'the': 2,\n",
              " 'and': 3,\n",
              " 'is': 4,\n",
              " '-': 5,\n",
              " 'with': 6,\n",
              " 'from': 7,\n",
              " 'in': 8,\n",
              " 'km': 9,\n",
              " 'free': 10,\n",
              " 'of': 11,\n",
              " 'are': 12,\n",
              " 'at': 13,\n",
              " 'can': 14,\n",
              " 'away': 15,\n",
              " 'hotel': 16,\n",
              " 'offers': 17,\n",
              " 'property': 18,\n",
              " 'rooms': 19,\n",
              " 'tv': 20,\n",
              " 'private': 21,\n",
              " 'on': 22,\n",
              " 'airport': 23,\n",
              " 'available': 24,\n",
              " 'located': 25,\n",
              " 'minute': 26,\n",
              " 'an': 27,\n",
              " 'guests': 28,\n",
              " 'also': 29,\n",
              " 'to': 30,\n",
              " 'area': 31,\n",
              " 'bathroom': 32,\n",
              " 'metres': 33,\n",
              " 'drive': 34,\n",
              " 'room': 35,\n",
              " 'parking': 36,\n",
              " 'you': 37,\n",
              " 'facilities': 38,\n",
              " '’': 39,\n",
              " 'site': 40,\n",
              " '5': 41,\n",
              " 'centre': 42,\n",
              " 'air': 43,\n",
              " 'restaurant': 44,\n",
              " 'features': 45,\n",
              " 'this': 46,\n",
              " 'wifi': 47,\n",
              " 'there': 48,\n",
              " 'walk': 49,\n",
              " 'it': 50,\n",
              " 'or': 51,\n",
              " 'all': 52,\n",
              " 'kitchen': 53,\n",
              " 'be': 54,\n",
              " 'flat': 55,\n",
              " '2': 56,\n",
              " 'screen': 57,\n",
              " 'shower': 58,\n",
              " 'equipped': 59,\n",
              " 'for': 60,\n",
              " 'apartment': 61,\n",
              " 'breakfast': 62,\n",
              " '1': 63,\n",
              " 'each': 64,\n",
              " 'fi': 65,\n",
              " 'wi': 66,\n",
              " 'as': 67,\n",
              " 'beach': 68,\n",
              " 'pool': 69,\n",
              " 'station': 70,\n",
              " 'garden': 71,\n",
              " 'has': 72,\n",
              " 'accommodation': 73,\n",
              " 'terrace': 74,\n",
              " 'minutes': 75,\n",
              " 'include': 76,\n",
              " 'have': 77,\n",
              " 'will': 78,\n",
              " 'access': 79,\n",
              " 'views': 80,\n",
              " 'international': 81,\n",
              " 'while': 82,\n",
              " 'within': 83,\n",
              " 'desk': 84,\n",
              " '10': 85,\n",
              " 'enjoy': 86,\n",
              " 'apartments': 87,\n",
              " 'just': 88,\n",
              " 's': 89,\n",
              " 'provided': 90,\n",
              " '3': 91,\n",
              " 'outdoor': 92,\n",
              " 'dining': 93,\n",
              " 'city': 94,\n",
              " 'conditioned': 95,\n",
              " 'house': 96,\n",
              " 'by': 97,\n",
              " 'hour': 98,\n",
              " 'balcony': 99,\n",
              " 'seating': 100,\n",
              " '24': 101,\n",
              " 'cable': 102,\n",
              " 'bar': 103,\n",
              " 'well': 104,\n",
              " 'hairdryer': 105,\n",
              " 'featuring': 106,\n",
              " 'find': 107,\n",
              " 'satellite': 108,\n",
              " 'park': 109,\n",
              " 'feature': 110,\n",
              " 'restaurants': 111,\n",
              " 'offered': 112,\n",
              " 'toiletries': 113,\n",
              " 'microwave': 114,\n",
              " 'guest': 115,\n",
              " 'comes': 116,\n",
              " 'includes': 117,\n",
              " 'set': 118,\n",
              " 'shared': 119,\n",
              " '15': 120,\n",
              " 'come': 121,\n",
              " 'service': 122,\n",
              " 'coffee': 123,\n",
              " 'conditioning': 124,\n",
              " 'some': 125,\n",
              " 'bath': 126,\n",
              " '4': 127,\n",
              " 'front': 128,\n",
              " 'nearest': 129,\n",
              " 'sea': 130,\n",
              " 'train': 131,\n",
              " 'served': 132,\n",
              " 'bed': 133,\n",
              " 'de': 134,\n",
              " 'situated': 135,\n",
              " 'fully': 136,\n",
              " 'bathrooms': 137,\n",
              " 'town': 138,\n",
              " 'offering': 139,\n",
              " 'ski': 140,\n",
              " 'car': 141,\n",
              " '20': 142,\n",
              " 'villa': 143,\n",
              " 'fitted': 144,\n",
              " 'throughout': 145,\n",
              " 'modern': 146,\n",
              " 'self': 147,\n",
              " 'la': 148,\n",
              " 'inn': 149,\n",
              " 'bus': 150,\n",
              " 'machine': 151,\n",
              " 'living': 152,\n",
              " '&': 153,\n",
              " 'spa': 154,\n",
              " 'channels': 155,\n",
              " 'oven': 156,\n",
              " 'kitchenette': 157,\n",
              " 'fridge': 158,\n",
              " 'suite': 159,\n",
              " 'which': 160,\n",
              " '7': 161,\n",
              " 'buffet': 162,\n",
              " 'local': 163,\n",
              " 'other': 164,\n",
              " '6': 165,\n",
              " 'hot': 166,\n",
              " 'barbecue': 167,\n",
              " 'provide': 168,\n",
              " 'catering': 169,\n",
              " 'lounge': 170,\n",
              " 'swimming': 171,\n",
              " 'including': 172,\n",
              " 'daily': 173,\n",
              " 'activities': 174,\n",
              " 'resort': 175,\n",
              " 'style': 176,\n",
              " 'en': 177,\n",
              " 'home': 178,\n",
              " 'spacious': 179,\n",
              " 'serves': 180,\n",
              " 'services': 181,\n",
              " 'holiday': 182,\n",
              " 'found': 183,\n",
              " 'view': 184,\n",
              " 'only': 185,\n",
              " 'provides': 186,\n",
              " 'refrigerator': 187,\n",
              " 'every': 188,\n",
              " 'relax': 189,\n",
              " '8': 190,\n",
              " 'cuisine': 191,\n",
              " 'dishwasher': 192,\n",
              " 'b': 193,\n",
              " 'units': 194,\n",
              " 'towels': 195,\n",
              " 'sauna': 196,\n",
              " 'public': 197,\n",
              " '/': 198,\n",
              " 'furnished': 199,\n",
              " 'lake': 200,\n",
              " 'decorated': 201,\n",
              " '30': 202,\n",
              " 'areas': 203,\n",
              " 'offer': 204,\n",
              " 'storage': 205,\n",
              " 'linen': 206,\n",
              " 'shops': 207,\n",
              " 'laundry': 208,\n",
              " 'mountain': 209,\n",
              " 'museum': 210,\n",
              " 'they': 211,\n",
              " 'kettle': 212,\n",
              " 'dishes': 213,\n",
              " 'shuttle': 214,\n",
              " 'minibar': 215,\n",
              " 'sun': 216,\n",
              " '500': 217,\n",
              " 'hiking': 218,\n",
              " 'morning': 219,\n",
              " 'reached': 220,\n",
              " 'request': 221,\n",
              " 'traditional': 222,\n",
              " 'its': 223,\n",
              " 'suites': 224,\n",
              " 'square': 225,\n",
              " 'golf': 226,\n",
              " 'surroundings': 227,\n",
              " '(': 228,\n",
              " 'sofa': 229,\n",
              " 'central': 230,\n",
              " 'featured': 231,\n",
              " 'use': 232,\n",
              " 'day': 233,\n",
              " 'nearby': 234,\n",
              " 'large': 235,\n",
              " 'meals': 236,\n",
              " 'distance': 237,\n",
              " 'children': 238,\n",
              " 'shopping': 239,\n",
              " 'tea': 240,\n",
              " 'full': 241,\n",
              " 'bars': 242,\n",
              " 'tour': 243,\n",
              " 'enjoyed': 244,\n",
              " 'your': 245,\n",
              " 'table': 246,\n",
              " 'washing': 247,\n",
              " 'tub': 248,\n",
              " 'included': 249,\n",
              " '200': 250,\n",
              " 'unit': 251,\n",
              " 'player': 252,\n",
              " 'hostel': 253,\n",
              " 'bedroom': 254,\n",
              " 'cycling': 255,\n",
              " 'village': 256,\n",
              " 'fitness': 257,\n",
              " 'miles': 258,\n",
              " 'metro': 259,\n",
              " 'floors': 260,\n",
              " 'where': 261,\n",
              " 'tennis': 262,\n",
              " 'river': 263,\n",
              " '100': 264,\n",
              " 'continental': 265,\n",
              " '9': 266,\n",
              " 'national': 267,\n",
              " 'luggage': 268,\n",
              " 'open': 269,\n",
              " '300': 270,\n",
              " 'dvd': 271,\n",
              " 'internet': 272,\n",
              " 'wooden': 273,\n",
              " 'reception': 274,\n",
              " 'popular': 275,\n",
              " 'one': 276,\n",
              " '25': 277,\n",
              " 'variety': 278,\n",
              " 'old': 279,\n",
              " 'here': 280,\n",
              " 'surrounding': 281,\n",
              " 'stop': 282,\n",
              " '50': 283,\n",
              " 'electric': 284,\n",
              " 'than': 285,\n",
              " 'décor': 286,\n",
              " 'playground': 287,\n",
              " 'business': 288,\n",
              " 'their': 289,\n",
              " 'indoor': 290,\n",
              " 'both': 291,\n",
              " 'less': 292,\n",
              " 'possible': 293,\n",
              " 'street': 294,\n",
              " 'historic': 295,\n",
              " 'surrounded': 296,\n",
              " 'drinks': 297,\n",
              " 'bright': 298,\n",
              " 'water': 299,\n",
              " 'club': 300,\n",
              " 'walking': 301,\n",
              " 'casa': 302,\n",
              " 'hire': 303,\n",
              " 'building': 304,\n",
              " '40': 305,\n",
              " 'railway': 306,\n",
              " ')': 307,\n",
              " '12': 308,\n",
              " 'many': 309,\n",
              " 'charge': 310,\n",
              " 'market': 311,\n",
              " 'such': 312,\n",
              " 'san': 313,\n",
              " 'that': 314,\n",
              " 'main': 315,\n",
              " 'fishing': 316,\n",
              " 'del': 317,\n",
              " 'fireplace': 318,\n",
              " 'center': 319,\n",
              " 'upon': 320,\n",
              " 'staff': 321,\n",
              " 'patio': 322,\n",
              " 'rental': 323,\n",
              " 'like': 324,\n",
              " 'district': 325,\n",
              " 'family': 326,\n",
              " 'small': 327,\n",
              " 'complete': 328,\n",
              " 'various': 329,\n",
              " 'gardens': 330,\n",
              " 'furniture': 331,\n",
              " 'overlooking': 332,\n",
              " 'comfortable': 333,\n",
              " 'out': 334,\n",
              " 'bedrooms': 335,\n",
              " 'dinner': 336,\n",
              " 'location': 337,\n",
              " 'ironing': 338,\n",
              " 'work': 339,\n",
              " 'port': 340,\n",
              " 'fresh': 341,\n",
              " 'region': 342,\n",
              " 'grocery': 343,\n",
              " 'castle': 344,\n",
              " 'boasts': 345,\n",
              " 'palace': 346,\n",
              " 'options': 347,\n",
              " 'about': 348,\n",
              " 'bike': 349,\n",
              " 'friendly': 350,\n",
              " 'massage': 351,\n",
              " 'range': 352,\n",
              " 'beautiful': 353,\n",
              " 'cathedral': 354,\n",
              " 'slippers': 355,\n",
              " '400': 356,\n",
              " 'around': 357,\n",
              " 'country': 358,\n",
              " 'bbq': 359,\n",
              " 'elegant': 360,\n",
              " 'famous': 361,\n",
              " 'making': 362,\n",
              " '600': 363,\n",
              " 'le': 364,\n",
              " 'floor': 365,\n",
              " 'saint': 366,\n",
              " 'course': 367,\n",
              " 'heart': 368,\n",
              " 'bay': 369,\n",
              " 'summer': 370,\n",
              " 'island': 371,\n",
              " 'mountains': 372,\n",
              " 'studios': 373,\n",
              " 'motel': 374,\n",
              " 'regional': 375,\n",
              " 'next': 376,\n",
              " '800': 377,\n",
              " 'panoramic': 378,\n",
              " 'extra': 379,\n",
              " 'quiet': 380,\n",
              " 'convenience': 381,\n",
              " 'selection': 382,\n",
              " 'mini': 383,\n",
              " 'short': 384,\n",
              " 'over': 385,\n",
              " 'surcharge': 386,\n",
              " 'up': 387,\n",
              " 'array': 388,\n",
              " 'serving': 389,\n",
              " 'shop': 390,\n",
              " 'run': 391,\n",
              " 'drink': 392,\n",
              " '11': 393,\n",
              " 'motorway': 394,\n",
              " 'arranged': 395,\n",
              " 'own': 396,\n",
              " 'play': 397,\n",
              " 'guesthouse': 398,\n",
              " 'western': 399,\n",
              " 'star': 400,\n",
              " 'extras': 401,\n",
              " 'stove': 402,\n",
              " 'residence': 403,\n",
              " '45': 404,\n",
              " '13': 405,\n",
              " 'furnishings': 406,\n",
              " 'riding': 407,\n",
              " '700': 408,\n",
              " 'theatre': 409,\n",
              " 'ride': 410,\n",
              " 'take': 411,\n",
              " 'countryside': 412,\n",
              " 'sports': 413,\n",
              " 'additional': 414,\n",
              " 'st': 415,\n",
              " 'italian': 416,\n",
              " 'several': 417,\n",
              " 'heating': 418,\n",
              " 'comfort': 419,\n",
              " 'right': 420,\n",
              " 'food': 421,\n",
              " 'beaches': 422,\n",
              " 'gym': 423,\n",
              " 'specialities': 424,\n",
              " 'double': 425,\n",
              " 'close': 426,\n",
              " 'bicycle': 427,\n",
              " 'skiing': 428,\n",
              " 'horse': 429,\n",
              " 'mall': 430,\n",
              " 'during': 431,\n",
              " 'marina': 432,\n",
              " 'wide': 433,\n",
              " 'seasonal': 434,\n",
              " 'hours': 435,\n",
              " 'classic': 436,\n",
              " 'most': 437,\n",
              " 'century': 438,\n",
              " 'meeting': 439,\n",
              " 'wellness': 440,\n",
              " 'fan': 441,\n",
              " 'toaster': 442,\n",
              " 'natural': 443,\n",
              " 'sweet': 444,\n",
              " '35': 445,\n",
              " 'el': 446,\n",
              " 'lobby': 447,\n",
              " 'lunch': 448,\n",
              " 'place': 449,\n",
              " 'along': 450,\n",
              " 'plaza': 451,\n",
              " 'stay': 452,\n",
              " 'ideal': 453,\n",
              " 'green': 454,\n",
              " 'check': 455,\n",
              " '18': 456,\n",
              " 'wood': 457,\n",
              " 'attractions': 458,\n",
              " 'tiled': 459,\n",
              " 'safe': 460,\n",
              " '14': 461,\n",
              " 'wine': 462,\n",
              " 'coast': 463,\n",
              " ').': 464,\n",
              " 'stylish': 465,\n",
              " 'light': 466,\n",
              " 'benefit': 467,\n",
              " 'maker': 468,\n",
              " 'bathtub': 469,\n",
              " 'complimentary': 470,\n",
              " 'cosy': 471,\n",
              " 'valley': 472,\n",
              " 'amenities': 473,\n",
              " 'wardrobe': 474,\n",
              " 'tours': 475,\n",
              " 'beds': 476,\n",
              " 'near': 477,\n",
              " 'café': 478,\n",
              " 'games': 479,\n",
              " 'university': 480,\n",
              " 'simply': 481,\n",
              " 'lcd': 482,\n",
              " 'santa': 483,\n",
              " 'heated': 484,\n",
              " 'after': 485,\n",
              " '150': 486,\n",
              " 'di': 487,\n",
              " 'snacks': 488,\n",
              " 'cafés': 489,\n",
              " 'make': 490,\n",
              " 'studio': 491,\n",
              " 'explore': 492,\n",
              " 'complex': 493,\n",
              " 'lodge': 494,\n",
              " 'homemade': 495,\n",
              " 'simple': 496,\n",
              " 'grand': 497,\n",
              " 'two': 498,\n",
              " 'court': 499,\n",
              " 'safety': 500,\n",
              " 'stadium': 501,\n",
              " 'treatments': 502,\n",
              " 'if': 503,\n",
              " 'visit': 504,\n",
              " 'certain': 505,\n",
              " 'state': 506,\n",
              " 'cleaning': 507,\n",
              " 'art': 508,\n",
              " 'dryer': 509,\n",
              " 'nature': 510,\n",
              " 'box': 511,\n",
              " 'tvs': 512,\n",
              " 'deposit': 513,\n",
              " 'do': 514,\n",
              " 'stovetop': 515,\n",
              " 'road': 516,\n",
              " 'scenic': 517,\n",
              " 'separate': 518,\n",
              " 'pet': 519,\n",
              " 'rustic': 520,\n",
              " 'easy': 521,\n",
              " 'prepare': 522,\n",
              " 'relaxing': 523,\n",
              " 'loungers': 524,\n",
              " 'church': 525,\n",
              " 'mediterranean': 526,\n",
              " 'villas': 527,\n",
              " 'new': 528,\n",
              " 'forest': 529,\n",
              " '17': 530,\n",
              " 'visiting': 531,\n",
              " '16': 532,\n",
              " 'bicycles': 533,\n",
              " 'feel': 534,\n",
              " '900': 535,\n",
              " 'store': 536,\n",
              " 'carte': 537,\n",
              " 'lift': 538,\n",
              " 'al': 539,\n",
              " 'hall': 540,\n",
              " 'world': 541,\n",
              " 'historical': 542,\n",
              " 'peaceful': 543,\n",
              " 'foot': 544,\n",
              " 'ferry': 545,\n",
              " 'common': 546,\n",
              " ':': 547,\n",
              " 'sandy': 548,\n",
              " 'stone': 549,\n",
              " 'ocean': 550,\n",
              " 'outside': 551,\n",
              " 'entertainment': 552,\n",
              " 'assist': 553,\n",
              " 'bidet': 554,\n",
              " 'south': 555,\n",
              " 'cold': 556,\n",
              " 'chinese': 557,\n",
              " 'toilet': 558,\n",
              " 'off': 559,\n",
              " 'made': 560,\n",
              " 'arrange': 561,\n",
              " 'massages': 562,\n",
              " 'kitchenware': 563,\n",
              " 'few': 564,\n",
              " 'contemporary': 565,\n",
              " 'pools': 566,\n",
              " 'direct': 567,\n",
              " 'stops': 568,\n",
              " 'meal': 569,\n",
              " 'high': 570,\n",
              " 'tower': 571,\n",
              " 'links': 572,\n",
              " 'boutique': 573,\n",
              " 'warm': 574,\n",
              " 'billiards': 575,\n",
              " 'supermarket': 576,\n",
              " 'dry': 577,\n",
              " 'steps': 578,\n",
              " 'les': 579,\n",
              " 'da': 580,\n",
              " 'bathrobes': 581,\n",
              " 'royal': 582,\n",
              " 'great': 583,\n",
              " 'flooring': 584,\n",
              " 'temple': 585,\n",
              " 'typical': 586,\n",
              " 'charming': 587,\n",
              " 'welcome': 588,\n",
              " 'boat': 589,\n",
              " 'best': 590,\n",
              " 'may': 591,\n",
              " 'accessible': 592,\n",
              " 'windows': 593,\n",
              " '19': 594,\n",
              " 'luxury': 595,\n",
              " 'fee': 596,\n",
              " 'harbour': 597,\n",
              " 'rentals': 598,\n",
              " 'parquet': 599,\n",
              " '22': 600,\n",
              " 'rome': 601,\n",
              " 'snack': 602,\n",
              " 'downtown': 603,\n",
              " 'diving': 604,\n",
              " 'pension': 605,\n",
              " 'space': 606,\n",
              " 'blue': 607,\n",
              " 'north': 608,\n",
              " 'opera': 609,\n",
              " 'these': 610,\n",
              " 'products': 611,\n",
              " 'trips': 612,\n",
              " 'trails': 613,\n",
              " 'à': 614,\n",
              " 'telephone': 615,\n",
              " 'reserve': 616,\n",
              " 'balconies': 617,\n",
              " 'terminal': 618,\n",
              " 'steam': 619,\n",
              " 'non': 620,\n",
              " 'arrangements': 621,\n",
              " 'chalet': 622,\n",
              " 'west': 623,\n",
              " 'courtyard': 624,\n",
              " 'fine': 625,\n",
              " 'leisure': 626,\n",
              " 'farm': 627,\n",
              " 'reach': 628,\n",
              " 'split': 629,\n",
              " 'takes': 630,\n",
              " 'japanese': 631,\n",
              " '23': 632,\n",
              " 'prepared': 633,\n",
              " 'design': 634,\n",
              " '32': 635,\n",
              " 'cost': 636,\n",
              " 'houses': 637,\n",
              " 'equipment': 638,\n",
              " 'menu': 639,\n",
              " 'evening': 640,\n",
              " 'hill': 641,\n",
              " 'accommodations': 642,\n",
              " 'centrally': 643,\n",
              " 'porto': 644,\n",
              " 'baths': 645,\n",
              " 'du': 646,\n",
              " 'library': 647,\n",
              " 'either': 648,\n",
              " 'interiors': 649,\n",
              " 'm': 650,\n",
              " 'fruit': 651,\n",
              " 'des': 652,\n",
              " 'between': 653,\n",
              " 'luxurious': 654,\n",
              " 'playa': 655,\n",
              " 'guestrooms': 656,\n",
              " 'information': 657,\n",
              " 'tropical': 658,\n",
              " 'built': 659,\n",
              " 'communal': 660,\n",
              " 'winter': 661,\n",
              " 'cook': 662,\n",
              " 'golfing': 663,\n",
              " 'accommodate': 664,\n",
              " 'bridge': 665,\n",
              " 'excursions': 666,\n",
              " 'rent': 667,\n",
              " 'snorkelling': 668,\n",
              " 'cafes': 669,\n",
              " 'mile': 670,\n",
              " 'los': 671,\n",
              " 'picturesque': 672,\n",
              " 'bread': 673,\n",
              " 'colours': 674,\n",
              " 'rich': 675,\n",
              " '21': 676,\n",
              " 'cottage': 677,\n",
              " 'standard': 678,\n",
              " 'night': 679,\n",
              " 'conveniently': 680,\n",
              " 'rio': 681,\n",
              " 'start': 682,\n",
              " 'cd': 683,\n",
              " 'vending': 684,\n",
              " 'pastries': 685,\n",
              " '250': 686,\n",
              " 'thermal': 687,\n",
              " 'walls': 688,\n",
              " '00': 689,\n",
              " 'thai': 690,\n",
              " 'beachfront': 691,\n",
              " 'number': 692,\n",
              " 'savoury': 693,\n",
              " 'zoo': 694,\n",
              " '28': 695,\n",
              " 'individually': 696,\n",
              " 'reachable': 697,\n",
              " 'go': 698,\n",
              " 'turkish': 699,\n",
              " 'smoking': 700,\n",
              " 'exhibition': 701,\n",
              " 'directly': 702,\n",
              " 'chairs': 703,\n",
              " '26': 704,\n",
              " 'white': 705,\n",
              " 'mar': 706,\n",
              " 'opposite': 707,\n",
              " 'help': 708,\n",
              " 'trees': 709,\n",
              " 'kitchens': 710,\n",
              " 'travel': 711,\n",
              " 'paris': 712,\n",
              " 'express': 713,\n",
              " 'boasting': 714,\n",
              " 'lively': 715,\n",
              " 'i': 716,\n",
              " 'las': 717,\n",
              " 'd': 718,\n",
              " 'homestay': 719,\n",
              " 'tram': 720,\n",
              " 'courts': 721,\n",
              " 'fax': 722,\n",
              " 'seafood': 723,\n",
              " 'convention': 724,\n",
              " 'cocktails': 725,\n",
              " 'renovated': 726,\n",
              " 'tourist': 727,\n",
              " 'underground': 728,\n",
              " 'black': 729,\n",
              " 'using': 730,\n",
              " 'arena': 731,\n",
              " 'slopes': 732,\n",
              " 'beauty': 733,\n",
              " 'wired': 734,\n",
              " 'hob': 735,\n",
              " 'cooking': 736,\n",
              " 'line': 737,\n",
              " 'bikes': 738,\n",
              " 'closest': 739,\n",
              " 'enjoys': 740,\n",
              " 'am': 741,\n",
              " 'point': 742,\n",
              " 'promenade': 743,\n",
              " 'easily': 744,\n",
              " 'english': 745,\n",
              " 'wines': 746,\n",
              " 'bungalows': 747,\n",
              " '27': 748,\n",
              " 'cooked': 749,\n",
              " 'machines': 750,\n",
              " 'cakes': 751,\n",
              " 'casino': 752,\n",
              " 'who': 753,\n",
              " 'rooftop': 754,\n",
              " 'different': 755,\n",
              " 'theme': 756,\n",
              " 'hostal': 757,\n",
              " 'red': 758,\n",
              " 'haus': 759,\n",
              " 'game': 760,\n",
              " 'london': 761,\n",
              " 'colourful': 762,\n",
              " 'via': 763,\n",
              " 'heritage': 764,\n",
              " 'entire': 765,\n",
              " 'providing': 766,\n",
              " 'relaxation': 767,\n",
              " 'hills': 768,\n",
              " 'beverages': 769,\n",
              " 'year': 770,\n",
              " 'costa': 771,\n",
              " 'people': 772,\n",
              " 'setting': 773,\n",
              " 'ceilings': 774,\n",
              " 'plan': 775,\n",
              " 'rural': 776,\n",
              " 'across': 777,\n",
              " 'exchange': 778,\n",
              " 'more': 779,\n",
              " 'pousada': 780,\n",
              " 'plus': 781,\n",
              " 'sofas': 782,\n",
              " 'apart': 783,\n",
              " 'hair': 784,\n",
              " 'consists': 785,\n",
              " 'top': 786,\n",
              " 'entrance': 787,\n",
              " 'transport': 788,\n",
              " 'tbilisi': 789,\n",
              " 'unique': 790,\n",
              " 'lisbon': 791,\n",
              " 'lies': 792,\n",
              " 'dine': 793,\n",
              " '60': 794,\n",
              " 'piazza': 795,\n",
              " 'unesco': 796,\n",
              " 'good': 797,\n",
              " 'fish': 798,\n",
              " 'french': 799,\n",
              " 'phuket': 800,\n",
              " 'indian': 801,\n",
              " 'currency': 802,\n",
              " 'facility': 803,\n",
              " 'lush': 804,\n",
              " 'numerous': 805,\n",
              " 'organic': 806,\n",
              " 'wireless': 807,\n",
              " 'avenue': 808,\n",
              " 'base': 809,\n",
              " 'busy': 810,\n",
              " 'seaside': 811,\n",
              " 'seafront': 812,\n",
              " 'american': 813,\n",
              " 'conference': 814,\n",
              " 'pier': 815,\n",
              " 'organised': 816,\n",
              " 'apartamentos': 817,\n",
              " 'transfer': 818,\n",
              " 'overlooks': 819,\n",
              " 'fort': 820,\n",
              " 'na': 821,\n",
              " 'stunning': 822,\n",
              " 'round': 823,\n",
              " 'book': 824,\n",
              " 'sunny': 825,\n",
              " '70': 826,\n",
              " 'concierge': 827,\n",
              " 'dubrovnik': 828,\n",
              " 'barcelona': 829,\n",
              " 'hôtel': 830,\n",
              " 'sochi': 831,\n",
              " 'select': 832,\n",
              " 'supermarkets': 833,\n",
              " 'disposal': 834,\n",
              " 'sightseeing': 835,\n",
              " 'soundproofed': 836,\n",
              " '–': 837,\n",
              " 'them': 838,\n",
              " 'prague': 839,\n",
              " 'days': 840,\n",
              " 'east': 841,\n",
              " 'produce': 842,\n",
              " 'music': 843,\n",
              " 'border': 844,\n",
              " 'ground': 845,\n",
              " 'buses': 846,\n",
              " 'nice': 847,\n",
              " 'varied': 848,\n",
              " '\"': 849,\n",
              " '350': 850,\n",
              " 'freshly': 851,\n",
              " '90': 852,\n",
              " 'stations': 853,\n",
              " 'alpine': 854,\n",
              " 'choice': 855,\n",
              " 'bad': 856,\n",
              " 'showers': 857,\n",
              " 'marble': 858,\n",
              " 'sur': 859,\n",
              " 'spring': 860,\n",
              " 'basilica': 861,\n",
              " 'approximately': 862,\n",
              " 'golden': 863,\n",
              " 'milan': 864,\n",
              " 'cuisines': 865,\n",
              " 'twin': 866,\n",
              " 'refreshing': 867,\n",
              " 'eggs': 868,\n",
              " 'cottages': 869,\n",
              " 'il': 870,\n",
              " 'transfers': 871,\n",
              " 'rai': 872,\n",
              " 'ingredients': 873,\n",
              " 'part': 874,\n",
              " 'spaces': 875,\n",
              " 'special': 876,\n",
              " 'croissants': 877,\n",
              " 'plenty': 878,\n",
              " 'quality': 879,\n",
              " 'homes': 880,\n",
              " 'ticket': 881,\n",
              " 'carpeted': 882,\n",
              " 'pulkovo': 883,\n",
              " 'ipod': 884,\n",
              " 'canoeing': 885,\n",
              " 'no': 886,\n",
              " 'terraces': 887,\n",
              " 'catered': 888,\n",
              " 'used': 889,\n",
              " 'adler': 890,\n",
              " 'choose': 891,\n",
              " 'premises': 892,\n",
              " 'under': 893,\n",
              " 'atmosphere': 894,\n",
              " 'connections': 895,\n",
              " 'florence': 896,\n",
              " 'extensive': 897,\n",
              " 'bathrobe': 898,\n",
              " 'fruits': 899,\n",
              " 'antique': 900,\n",
              " 'long': 901,\n",
              " 'enjoying': 902,\n",
              " 'deck': 903,\n",
              " 'cross': 904,\n",
              " 'through': 905,\n",
              " 'maria': 906,\n",
              " '42': 907,\n",
              " 'garage': 908,\n",
              " 'petersburg': 909,\n",
              " 'comprises': 910,\n",
              " 'olive': 911,\n",
              " 'bali': 912,\n",
              " 'pub': 913,\n",
              " 'live': 914,\n",
              " 'inch': 915,\n",
              " 'ideally': 916,\n",
              " 'mount': 917,\n",
              " '450': 918,\n",
              " 'three': 919,\n",
              " 'big': 920,\n",
              " '19th': 921,\n",
              " '́': 922,\n",
              " 'four': 923,\n",
              " 'exploring': 924,\n",
              " 'vicinity': 925,\n",
              " 'packed': 926,\n",
              " '36': 927,\n",
              " 'organise': 928,\n",
              " '33': 929,\n",
              " 'football': 930,\n",
              " 'palm': 931,\n",
              " 'm2': 932,\n",
              " 'islands': 933,\n",
              " '80': 934,\n",
              " 'tumble': 935,\n",
              " 'european': 936,\n",
              " 'puerto': 937,\n",
              " 'photocopying': 938,\n",
              " 'u': 939,\n",
              " 'specialises': 940,\n",
              " 'ballet': 941,\n",
              " 'moscow': 942,\n",
              " 'lunches': 943,\n",
              " 'computer': 944,\n",
              " 'batumi': 945,\n",
              " 'covered': 946,\n",
              " 'monastery': 947,\n",
              " 'corner': 948,\n",
              " 'pedestrian': 949,\n",
              " 'linens': 950,\n",
              " 'attached': 951,\n",
              " 'iron': 952,\n",
              " 'delivery': 953,\n",
              " '37': 954,\n",
              " 'tranquil': 955,\n",
              " 'mare': 956,\n",
              " 'springs': 957,\n",
              " 'engage': 958,\n",
              " 'first': 959,\n",
              " 'ancient': 960,\n",
              " '29': 961,\n",
              " 'personal': 962,\n",
              " 'lagoon': 963,\n",
              " 'ngurah': 964,\n",
              " 'excellent': 965,\n",
              " 'super': 966,\n",
              " 'clock': 967,\n",
              " 'door': 968,\n",
              " 'board': 969,\n",
              " '38': 970,\n",
              " 'lovely': 971,\n",
              " 'swim': 972,\n",
              " 'ceiling': 973,\n",
              " 'edge': 974,\n",
              " 'poolside': 975,\n",
              " 'budapest': 976,\n",
              " 'elegantly': 977,\n",
              " 'praia': 978,\n",
              " 'known': 979,\n",
              " 'card': 980,\n",
              " 'rock': 981,\n",
              " 'pula': 982,\n",
              " 'those': 983,\n",
              " 'tastefully': 984,\n",
              " 'discounts': 985,\n",
              " 'blocks': 986,\n",
              " 'sport': 987,\n",
              " 'subway': 988,\n",
              " 'copacabana': 989,\n",
              " '46': 990,\n",
              " 'speed': 991,\n",
              " 'sites': 992,\n",
              " 'aquarium': 993,\n",
              " 'windsurfing': 994,\n",
              " 'back': 995,\n",
              " 'bungalow': 996,\n",
              " 'perfect': 997,\n",
              " 'original': 998,\n",
              " 'staying': 999,\n",
              " ...}"
            ]
          },
          "execution_count": 32,
          "metadata": {},
          "output_type": "execute_result"
        }
      ],
      "source": [
        "english_model.wv.key_to_index"
      ]
    },
    {
      "cell_type": "code",
      "execution_count": 53,
      "metadata": {
        "colab": {
          "base_uri": "https://localhost:8080/",
          "height": 759
        },
        "id": "Ixo7JJjhHrJT",
        "outputId": "e747911c-fa2b-4ae4-8fb9-976dcda137aa"
      },
      "outputs": [
        {
          "data": {
            "image/png": "[encoded data removed]",
            "text/plain": [
              "<Figure size 1600x1200 with 1 Axes>"
            ]
          },
          "metadata": {},
          "output_type": "display_data"
        }
      ],
      "source": [
        "from sklearn.decomposition import PCA\n",
        "import matplotlib.pyplot as plt\n",
        "\n",
        "# Get all word vectors\n",
        "word_vectors_eng = english_model.wv.vectors\n",
        "word_vectors_rus = russian_model.wv.vectors\n",
        "\n",
        "# Perform PCA\n",
        "pca = PCA(n_components=2)\n",
        "principal_components_eng = pca.fit_transform(word_vectors_eng)\n",
        "principal_components_rus = pca.fit_transform(word_vectors_rus)\n",
        "\n",
        "# Plot the results\n",
        "plt.scatter(principal_components_eng[:, 0], principal_components_eng[:, 1], color=\"b\")\n",
        "plt.scatter(principal_components_rus[:, 0], principal_components_rus[:, 1], color=\"r\")\n",
        "plt.show()"
      ]
    },
    {
      "cell_type": "markdown",
      "metadata": {
        "id": "q9DUgOCfU0FO"
      },
      "source": [
        "Here are tokens from original (RU) corpus:"
      ]
    },
    {
      "cell_type": "code",
      "execution_count": null,
      "metadata": {
        "colab": {
          "base_uri": "https://localhost:8080/"
        },
        "id": "RtKCtRhTU0FO",
        "outputId": "4a0fd934-9fad-42c8-e995-bee1f6ccf4e6"
      },
      "outputs": [
        {
          "data": {
            "text/plain": [
              "['<unk>',\n",
              " 'современными',\n",
              " 'совершать',\n",
              " 'идеальным',\n",
              " 'эйр',\n",
              " 'христа',\n",
              " 'ilvretta',\n",
              " 'трабзон',\n",
              " 'двухэтажные',\n",
              " 'тегель']"
            ]
          },
          "execution_count": 21,
          "metadata": {},
          "output_type": "execute_result"
        }
      ],
      "source": [
        "# SRC.vocab.itos[::1000]"
      ]
    },
    {
      "cell_type": "markdown",
      "metadata": {
        "id": "CH-oCqK8U0FO"
      },
      "source": [
        "And from target (EN) corpus:"
      ]
    },
    {
      "cell_type": "code",
      "execution_count": null,
      "metadata": {
        "colab": {
          "base_uri": "https://localhost:8080/"
        },
        "id": "VIKZaKf_U0FP",
        "outputId": "7ef33c53-2525-400f-e226-af86e23eda5b"
      },
      "outputs": [
        {
          "data": {
            "text/plain": [
              "['<unk>', 'order', 'iem', 'trampoline', 'adi', 'auvergne', 'rapid']"
            ]
          },
          "execution_count": 22,
          "metadata": {},
          "output_type": "execute_result"
        }
      ],
      "source": [
        "# TRG.vocab.itos[::1000]"
      ]
    },
    {
      "cell_type": "markdown",
      "metadata": {
        "id": "gdHDKf6EU0FP"
      },
      "source": [
        "And here is example from train dataset:"
      ]
    },
    {
      "cell_type": "code",
      "execution_count": null,
      "metadata": {
        "colab": {
          "base_uri": "https://localhost:8080/"
        },
        "id": "8D-_DMtFU0FP",
        "outputId": "40625df8-d0ca-449f-c841-ee63a3aa92d6"
      },
      "outputs": [
        {
          "name": "stdout",
          "output_type": "stream",
          "text": [
            "{'trg': ['the', 'kitchen', 'i', 'equipped', 'with', 'a', 'dihwaher', 'and', 'an', 'oven', 'a', 'well', 'a', 'a', 'coffee', 'machine', 'and', 'a', 'kettle', '.'], 'src': ['кухня', 'оснащена', 'посудомоечной', 'машиной', 'духовкой', 'кофемашиной', 'и', 'чайником', '.']}\n"
          ]
        }
      ],
      "source": [
        "print(vars(train_data.examples[9]))"
      ]
    },
    {
      "cell_type": "markdown",
      "metadata": {
        "id": "F6JylkdMU0FP"
      },
      "source": [
        "Let's check the length distributions:"
      ]
    },
    {
      "cell_type": "code",
      "execution_count": 54,
      "metadata": {
        "colab": {
          "base_uri": "https://localhost:8080/",
          "height": 418
        },
        "id": "LY6DIqV5U0FP",
        "outputId": "9e4e33cb-94b1-4295-c431-ba51588e4dcc"
      },
      "outputs": [
        {
          "name": "stdout",
          "output_type": "stream",
          "text": [
            "Length distribution in Train data\n"
          ]
        },
        {
          "data": {
            "text/plain": [
              "(array([4.8300e+02, 8.9930e+03, 1.1929e+04, 7.4980e+03, 5.9020e+03,\n",
              "        2.8790e+03, 1.1200e+03, 7.4300e+02, 2.5000e+02, 1.0300e+02,\n",
              "        6.3000e+01, 2.5000e+01, 7.0000e+00, 1.0000e+00, 1.0000e+00,\n",
              "        0.0000e+00, 1.0000e+00, 0.0000e+00, 1.0000e+00, 1.0000e+00]),\n",
              " array([ 1. ,  5.7, 10.4, 15.1, 19.8, 24.5, 29.2, 33.9, 38.6, 43.3, 48. ,\n",
              "        52.7, 57.4, 62.1, 66.8, 71.5, 76.2, 80.9, 85.6, 90.3, 95. ]),\n",
              " <BarContainer object of 20 artists>)"
            ]
          },
          "execution_count": 54,
          "metadata": {},
          "output_type": "execute_result"
        },
        {
          "data": {
            "image/png": "[encoded data removed]",
            "text/plain": [
              "<Figure size 800x400 with 2 Axes>"
            ]
          },
          "metadata": {},
          "output_type": "display_data"
        }
      ],
      "source": [
        "src_length = map(len, [vars(x)[\"src\"] for x in train_data.examples])\n",
        "trg_length = map(len, [vars(x)[\"trg\"] for x in train_data.examples])\n",
        "\n",
        "print(\"Length distribution in Train data\")\n",
        "plt.figure(figsize=[8, 4])\n",
        "plt.subplot(1, 2, 1)\n",
        "plt.title(\"source length\")\n",
        "plt.hist(list(src_length), bins=20)\n",
        "\n",
        "plt.subplot(1, 2, 2)\n",
        "plt.title(\"translation length\")\n",
        "plt.hist(list(trg_length), bins=20)"
      ]
    },
    {
      "cell_type": "code",
      "execution_count": 55,
      "metadata": {
        "colab": {
          "base_uri": "https://localhost:8080/",
          "height": 418
        },
        "id": "e5xcpQC1U0FP",
        "outputId": "743c7166-0d7d-44c1-aed5-f161af646c40"
      },
      "outputs": [
        {
          "name": "stdout",
          "output_type": "stream",
          "text": [
            "Length distribution in Test data\n"
          ]
        },
        {
          "data": {
            "text/plain": [
              "(array([1.000e+00, 2.650e+02, 1.000e+03, 1.402e+03, 1.314e+03, 1.129e+03,\n",
              "        8.350e+02, 6.030e+02, 3.590e+02, 2.310e+02, 1.420e+02, 1.040e+02,\n",
              "        4.700e+01, 2.600e+01, 2.000e+01, 1.000e+01, 6.000e+00, 2.000e+00,\n",
              "        3.000e+00, 1.000e+00]),\n",
              " array([ 1.,  4.,  7., 10., 13., 16., 19., 22., 25., 28., 31., 34., 37.,\n",
              "        40., 43., 46., 49., 52., 55., 58., 61.]),\n",
              " <BarContainer object of 20 artists>)"
            ]
          },
          "execution_count": 55,
          "metadata": {},
          "output_type": "execute_result"
        },
        {
          "data": {
            "image/png": "[encoded data removed]",
            "text/plain": [
              "<Figure size 800x400 with 2 Axes>"
            ]
          },
          "metadata": {},
          "output_type": "display_data"
        }
      ],
      "source": [
        "src_length = map(len, [vars(x)[\"src\"] for x in test_data.examples])\n",
        "trg_length = map(len, [vars(x)[\"trg\"] for x in test_data.examples])\n",
        "\n",
        "print(\"Length distribution in Test data\")\n",
        "plt.figure(figsize=[8, 4])\n",
        "plt.subplot(1, 2, 1)\n",
        "plt.title(\"source length\")\n",
        "plt.hist(list(src_length), bins=20)\n",
        "\n",
        "plt.subplot(1, 2, 2)\n",
        "plt.title(\"translation length\")\n",
        "plt.hist(list(trg_length), bins=20)"
      ]
    },
    {
      "cell_type": "markdown",
      "metadata": {
        "id": "g-8URjZiU0FP"
      },
      "source": [
        "### Model side\n",
        "__Here comes simple pipeline of NMT model learning. It almost copies the week03 practice__"
      ]
    },
    {
      "cell_type": "code",
      "execution_count": 70,
      "metadata": {
        "id": "8qfY-obRU0FQ"
      },
      "outputs": [],
      "source": [
        "def _len_sort_key(x):\n",
        "    return len(x.src)\n",
        "\n",
        "\n",
        "BATCH_SIZE = 128\n",
        "\n",
        "train_iterator, valid_iterator, test_iterator = BucketIterator.splits(\n",
        "    (train_data, valid_data, test_data),\n",
        "    batch_size=BATCH_SIZE,\n",
        "    device=device,\n",
        "    sort_key=_len_sort_key,\n",
        ")"
      ]
    },
    {
      "cell_type": "code",
      "execution_count": 69,
      "metadata": {
        "colab": {
          "base_uri": "https://localhost:8080/"
        },
        "id": "5dI90sv5U0FQ",
        "outputId": "4039952a-2820-4c59-85be-0da06736dbc7"
      },
      "outputs": [
        {
          "name": "stdout",
          "output_type": "stream",
          "text": [
            "\n",
            "[torchtext.data.batch.Batch of size 128]\n",
            "\t[.trg]:[torch.cuda.LongTensor of size 49x128 (GPU 0)]\n",
            "\t[.src]:[torch.cuda.LongTensor of size 44x128 (GPU 0)]\n",
            "torch.Size([44, 128]) torch.Size([49, 128])\n"
          ]
        }
      ],
      "source": [
        "# for x in train_iterator:\n",
        "#     break\n",
        "# print(x)\n",
        "# print(x.src.shape, x.trg.shape)"
      ]
    },
    {
      "cell_type": "code",
      "execution_count": 79,
      "metadata": {
        "id": "WzAykPAxtywn"
      },
      "outputs": [],
      "source": [
        "import numpy as np\n",
        "\n",
        "english_vectors_np = np.array(\n",
        "    [english_model.wv[word] for word in english_model.wv.key_to_index]\n",
        ")\n",
        "russian_vectors_np = np.array(\n",
        "    [russian_model.wv[word] for word in russian_model.wv.key_to_index]\n",
        ")\n",
        "\n",
        "english_vectors = torch.from_numpy(english_vectors_np).to(device)\n",
        "russian_vectors = torch.from_numpy(russian_vectors_np).to(device)"
      ]
    },
    {
      "cell_type": "code",
      "execution_count": 24,
      "metadata": {
        "id": "y6GnW4_iU0FQ"
      },
      "outputs": [],
      "source": [
        "class EncoderW2V(nn.Module):\n",
        "    def __init__(self, emb_dim, hid_dim, n_layers, model, dropout):\n",
        "        super().__init__()\n",
        "\n",
        "        self.emb_dim = emb_dim\n",
        "        self.hid_dim = hid_dim\n",
        "        self.n_layers = n_layers\n",
        "        self.dropout = dropout\n",
        "        self.model = model\n",
        "\n",
        "        self.rnn = nn.LSTM(\n",
        "            input_size=emb_dim,\n",
        "            hidden_size=hid_dim,\n",
        "            num_layers=n_layers,\n",
        "            dropout=dropout,\n",
        "        )\n",
        "\n",
        "        self.dropout = nn.Dropout(p=dropout)\n",
        "\n",
        "        self.embedding = english_vectors\n",
        "\n",
        "    def forward(self, src):\n",
        "        embedded = self.model.mv[src].to(self.device)\n",
        "        embedded = self.dropout(embedded)\n",
        "        output, (hidden, cell) = self.rnn(embedded)\n",
        "        return hidden, cell\n",
        "\n",
        "\n",
        "class Decoder(nn.Module):\n",
        "    def __init__(self, emb_dim, hid_dim, n_layers, dropout):\n",
        "        super().__init__()\n",
        "\n",
        "        self.emb_dim = emb_dim\n",
        "        self.hid_dim = hid_dim\n",
        "        self.n_layers = n_layers\n",
        "        self.dropout = dropout\n",
        "\n",
        "        self.rnn = nn.LSTM(\n",
        "            input_size=emb_dim,\n",
        "            hidden_size=hid_dim,\n",
        "            num_layers=n_layers,\n",
        "            dropout=dropout,\n",
        "        )\n",
        "\n",
        "        self.out = nn.Linear(in_features=hid_dim, out_features=len(russian_vectors))\n",
        "\n",
        "        self.dropout = nn.Dropout(p=dropout)\n",
        "\n",
        "        self.embedding = russian_vectors\n",
        "\n",
        "    def forward(self, input, hidden, cell):\n",
        "        input = input.unsqueeze(0)\n",
        "        embedded = self.dropout(self.embedding[input]).to(\"cuda\")\n",
        "        output, (hidden, cell) = self.rnn(embedded, (hidden, cell))\n",
        "        prediction = self.out(output.squeeze(0))\n",
        "        return prediction, hidden, cell\n",
        "\n",
        "\n",
        "class Seq2Seq(nn.Module):\n",
        "    def __init__(self, encoder, decoder, device):\n",
        "        super().__init__()\n",
        "\n",
        "        self.encoder = encoder\n",
        "        self.decoder = decoder\n",
        "        self.device = device\n",
        "\n",
        "        assert (\n",
        "            encoder.hid_dim == decoder.hid_dim\n",
        "        ), \"Hidden dimensions of encoder and decoder must be equal!\"\n",
        "        assert (\n",
        "            encoder.n_layers == decoder.n_layers\n",
        "        ), \"Encoder and decoder must have equal number of layers!\"\n",
        "\n",
        "    def forward(self, src, trg, teacher_forcing_ratio=0.5):\n",
        "        # src = [src sent len, batch size]\n",
        "        # trg = [trg sent len, batch size]\n",
        "        # teacher_forcing_ratio is probability to use teacher forcing\n",
        "        # e.g. if teacher_forcing_ratio is 0.75 we use ground-truth inputs 75% of the time\n",
        "\n",
        "        # Again, now batch is the first dimention instead of zero\n",
        "        batch_size = trg.shape[1]\n",
        "        max_len = trg.shape[0]\n",
        "        trg_vocab_size = len(russian_vectors)\n",
        "\n",
        "        # tensor to store decoder outputs\n",
        "        outputs = torch.zeros(max_len, batch_size, trg_vocab_size).to(self.device)\n",
        "\n",
        "        # last hidden state of the encoder is used as the initial hidden state of the decoder\n",
        "        hidden, cell = self.encoder(src)\n",
        "\n",
        "        # first input to the decoder is the <sos> tokens\n",
        "        input = trg[0, :]\n",
        "\n",
        "        for t in range(1, max_len):\n",
        "            output, hidden, cell = self.decoder(input, hidden, cell)\n",
        "            outputs[t] = output\n",
        "            teacher_force = random.random() < teacher_forcing_ratio\n",
        "            top1 = output.max(1)[1]\n",
        "            input = trg[t] if teacher_force else top1\n",
        "\n",
        "        return outputs"
      ]
    },
    {
      "cell_type": "code",
      "execution_count": 26,
      "metadata": {},
      "outputs": [
        {
          "data": {
            "text/plain": [
              "9219"
            ]
          },
          "execution_count": 26,
          "metadata": {},
          "output_type": "execute_result"
        }
      ],
      "source": [
        "len(SRC.vocab)"
      ]
    },
    {
      "cell_type": "code",
      "execution_count": 25,
      "metadata": {
        "id": "f9dk_DxYU0FQ"
      },
      "outputs": [
        {
          "ename": "TypeError",
          "evalue": "EncoderW2V.__init__() missing 1 required positional argument: 'dropout'",
          "output_type": "error",
          "traceback": [
            "\u001b[1;31m---------------------------------------------------------------------------\u001b[0m",
            "\u001b[1;31mTypeError\u001b[0m                                 Traceback (most recent call last)",
            "\u001b[1;32mc:\\Users\\arori\\workdir\\MaGaML\\natural-language-processing\\homeworks\\hw01_neural_machine_translation\\hw01_NMT_v2.ipynb Cell 40\u001b[0m line \u001b[0;36m1\n\u001b[0;32m      <a href='vscode-notebook-cell:/c%3A/Users/arori/workdir/MaGaML/natural-language-processing/homeworks/hw01_neural_machine_translation/hw01_NMT_v2.ipynb#X53sZmlsZQ%3D%3D?line=6'>7</a>\u001b[0m ENC_DROPOUT \u001b[39m=\u001b[39m \u001b[39m0.5\u001b[39m\n\u001b[0;32m      <a href='vscode-notebook-cell:/c%3A/Users/arori/workdir/MaGaML/natural-language-processing/homeworks/hw01_neural_machine_translation/hw01_NMT_v2.ipynb#X53sZmlsZQ%3D%3D?line=7'>8</a>\u001b[0m DEC_DROPOUT \u001b[39m=\u001b[39m \u001b[39m0.5\u001b[39m\n\u001b[1;32m---> <a href='vscode-notebook-cell:/c%3A/Users/arori/workdir/MaGaML/natural-language-processing/homeworks/hw01_neural_machine_translation/hw01_NMT_v2.ipynb#X53sZmlsZQ%3D%3D?line=9'>10</a>\u001b[0m enc \u001b[39m=\u001b[39m EncoderW2V(INPUT_DIM, HID_DIM, N_LAYERS, ENC_DROPOUT)\n\u001b[0;32m     <a href='vscode-notebook-cell:/c%3A/Users/arori/workdir/MaGaML/natural-language-processing/homeworks/hw01_neural_machine_translation/hw01_NMT_v2.ipynb#X53sZmlsZQ%3D%3D?line=10'>11</a>\u001b[0m dec \u001b[39m=\u001b[39m Decoder(OUTPUT_DIM, HID_DIM, N_LAYERS, DEC_DROPOUT)\n\u001b[0;32m     <a href='vscode-notebook-cell:/c%3A/Users/arori/workdir/MaGaML/natural-language-processing/homeworks/hw01_neural_machine_translation/hw01_NMT_v2.ipynb#X53sZmlsZQ%3D%3D?line=12'>13</a>\u001b[0m \u001b[39m# dont forget to put the model to the right device\u001b[39;00m\n",
            "\u001b[1;31mTypeError\u001b[0m: EncoderW2V.__init__() missing 1 required positional argument: 'dropout'"
          ]
        }
      ],
      "source": [
        "INPUT_DIM = len(SRC.vocab)\n",
        "OUTPUT_DIM = len(TRG.vocab)\n",
        "ENC_EMB_DIM = 256\n",
        "DEC_EMB_DIM = 256\n",
        "HID_DIM = 512\n",
        "N_LAYERS = 2\n",
        "ENC_DROPOUT = 0.5\n",
        "DEC_DROPOUT = 0.5\n",
        "\n",
        "enc = EncoderW2V(INPUT_DIM, HID_DIM, N_LAYERS, ENC_DROPOUT)\n",
        "dec = Decoder(OUTPUT_DIM, HID_DIM, N_LAYERS, DEC_DROPOUT)\n",
        "\n",
        "# dont forget to put the model to the right device\n",
        "model = Seq2Seq(enc, dec, device).to(device)"
      ]
    },
    {
      "cell_type": "code",
      "execution_count": null,
      "metadata": {
        "colab": {
          "base_uri": "https://localhost:8080/"
        },
        "id": "JvzUW12vU0FQ",
        "outputId": "530ed449-2211-499f-8b9b-a810b126199f"
      },
      "outputs": [
        {
          "data": {
            "text/plain": [
              "Seq2Seq(\n",
              "  (encoder): Encoder(\n",
              "    (rnn): LSTM(9260, 512, num_layers=2, dropout=0.5)\n",
              "    (dropout): Dropout(p=0.5, inplace=False)\n",
              "  )\n",
              "  (decoder): Decoder(\n",
              "    (rnn): LSTM(6265, 512, num_layers=2, dropout=0.5)\n",
              "    (out): Linear(in_features=512, out_features=44684, bias=True)\n",
              "    (dropout): Dropout(p=0.5, inplace=False)\n",
              "  )\n",
              ")"
            ]
          },
          "execution_count": 33,
          "metadata": {},
          "output_type": "execute_result"
        }
      ],
      "source": [
        "def init_weights(m):\n",
        "    # <YOUR CODE HERE>\n",
        "    for name, param in m.named_parameters():\n",
        "        nn.init.uniform_(param, -0.08, 0.08)\n",
        "\n",
        "\n",
        "model.apply(init_weights)"
      ]
    },
    {
      "cell_type": "code",
      "execution_count": null,
      "metadata": {
        "colab": {
          "base_uri": "https://localhost:8080/"
        },
        "id": "vRkz_E1kU0FQ",
        "outputId": "e8503d5e-f12d-475a-879c-958f0cdb4256"
      },
      "outputs": [
        {
          "name": "stdout",
          "output_type": "stream",
          "text": [
            "The model has 61,025,932 trainable parameters\n"
          ]
        }
      ],
      "source": [
        "def count_parameters(model):\n",
        "    return sum(p.numel() for p in model.parameters() if p.requires_grad)\n",
        "\n",
        "\n",
        "print(f\"The model has {count_parameters(model):,} trainable parameters\")"
      ]
    },
    {
      "cell_type": "code",
      "execution_count": null,
      "metadata": {
        "id": "0y-lKGalU0FR"
      },
      "outputs": [],
      "source": [
        "PAD_IDX = TRG.vocab.stoi[\"<pad>\"]\n",
        "optimizer = optim.Adam(model.parameters())\n",
        "criterion = nn.CrossEntropyLoss(ignore_index=PAD_IDX)"
      ]
    },
    {
      "cell_type": "code",
      "execution_count": null,
      "metadata": {
        "id": "0Ghb-GF2U0FR"
      },
      "outputs": [],
      "source": [
        "def train(\n",
        "    model, iterator, optimizer, criterion, clip, train_history=None, valid_history=None\n",
        "):\n",
        "    model.train()\n",
        "\n",
        "    epoch_loss = 0\n",
        "    history = []\n",
        "    for i, batch in enumerate(iterator):\n",
        "        src = batch.src\n",
        "        trg = batch.trg\n",
        "\n",
        "        optimizer.zero_grad()\n",
        "\n",
        "        output = model(src, trg)\n",
        "\n",
        "        # trg = [trg sent len, batch size]\n",
        "        # output = [trg sent len, batch size, output dim]\n",
        "\n",
        "        output = output[1:].view(-1, output.shape[-1])\n",
        "        trg = trg[1:].view(-1)\n",
        "\n",
        "        # trg = [(trg sent len - 1) * batch size]\n",
        "        # output = [(trg sent len - 1) * batch size, output dim]\n",
        "\n",
        "        loss = criterion(output, trg)\n",
        "\n",
        "        loss.backward()\n",
        "\n",
        "        # Let's clip the gradient\n",
        "        torch.nn.utils.clip_grad_norm_(model.parameters(), clip)\n",
        "\n",
        "        optimizer.step()\n",
        "\n",
        "        epoch_loss += loss.item()\n",
        "\n",
        "        history.append(loss.cpu().data.numpy())\n",
        "        if (i + 1) % 10 == 0:\n",
        "            fig, ax = plt.subplots(nrows=1, ncols=2, figsize=(12, 8))\n",
        "\n",
        "            clear_output(True)\n",
        "            ax[0].plot(history, label=\"train loss\")\n",
        "            ax[0].set_xlabel(\"Batch\")\n",
        "            ax[0].set_title(\"Train loss\")\n",
        "            if train_history is not None:\n",
        "                ax[1].plot(train_history, label=\"general train history\")\n",
        "                ax[1].set_xlabel(\"Epoch\")\n",
        "            if valid_history is not None:\n",
        "                ax[1].plot(valid_history, label=\"general valid history\")\n",
        "            plt.legend()\n",
        "\n",
        "            plt.show()\n",
        "\n",
        "    return epoch_loss / len(iterator)"
      ]
    },
    {
      "cell_type": "code",
      "execution_count": null,
      "metadata": {
        "id": "MUt80keFU0FR"
      },
      "outputs": [],
      "source": [
        "def evaluate(model, iterator, criterion):\n",
        "    model.eval()\n",
        "\n",
        "    epoch_loss = 0\n",
        "\n",
        "    history = []\n",
        "\n",
        "    with torch.no_grad():\n",
        "        for i, batch in enumerate(iterator):\n",
        "            src = batch.src\n",
        "            trg = batch.trg\n",
        "\n",
        "            output = model(src, trg, 0)  # turn off teacher forcing\n",
        "\n",
        "            # trg = [trg sent len, batch size]\n",
        "            # output = [trg sent len, batch size, output dim]\n",
        "\n",
        "            output = output[1:].view(-1, output.shape[-1])\n",
        "            trg = trg[1:].view(-1)\n",
        "\n",
        "            # trg = [(trg sent len - 1) * batch size]\n",
        "            # output = [(trg sent len - 1) * batch size, output dim]\n",
        "\n",
        "            loss = criterion(output, trg)\n",
        "\n",
        "            epoch_loss += loss.item()\n",
        "\n",
        "    return epoch_loss / len(iterator)"
      ]
    },
    {
      "cell_type": "code",
      "execution_count": null,
      "metadata": {
        "id": "ztg7FbmoU0FR"
      },
      "outputs": [],
      "source": [
        "def epoch_time(start_time, end_time):\n",
        "    elapsed_time = end_time - start_time\n",
        "    elapsed_mins = int(elapsed_time / 60)\n",
        "    elapsed_secs = int(elapsed_time - (elapsed_mins * 60))\n",
        "    return elapsed_mins, elapsed_secs"
      ]
    },
    {
      "cell_type": "code",
      "execution_count": null,
      "metadata": {
        "id": "h5MZG_sUU0FR"
      },
      "outputs": [],
      "source": [
        "train_history = []\n",
        "valid_history = []\n",
        "\n",
        "N_EPOCHS = 10\n",
        "CLIP = 1\n",
        "\n",
        "best_valid_loss = float(\"inf\")"
      ]
    },
    {
      "cell_type": "code",
      "execution_count": null,
      "metadata": {
        "colab": {
          "base_uri": "https://localhost:8080/",
          "height": 403
        },
        "id": "ip-kACGyU0FR",
        "outputId": "7ff42bd6-381a-460f-8625-623c4ccb3262"
      },
      "outputs": [
        {
          "ename": "RuntimeError",
          "evalue": "ignored",
          "output_type": "error",
          "traceback": [
            "\u001b[0;31m---------------------------------------------------------------------------\u001b[0m",
            "\u001b[0;31mRuntimeError\u001b[0m                              Traceback (most recent call last)",
            "\u001b[0;32m<ipython-input-40-2d3c8eec0719>\u001b[0m in \u001b[0;36m<cell line: 1>\u001b[0;34m()\u001b[0m\n\u001b[1;32m      3\u001b[0m     \u001b[0mstart_time\u001b[0m \u001b[0;34m=\u001b[0m \u001b[0mtime\u001b[0m\u001b[0;34m.\u001b[0m\u001b[0mtime\u001b[0m\u001b[0;34m(\u001b[0m\u001b[0;34m)\u001b[0m\u001b[0;34m\u001b[0m\u001b[0;34m\u001b[0m\u001b[0m\n\u001b[1;32m      4\u001b[0m \u001b[0;34m\u001b[0m\u001b[0m\n\u001b[0;32m----> 5\u001b[0;31m     \u001b[0mtrain_loss\u001b[0m \u001b[0;34m=\u001b[0m \u001b[0mtrain\u001b[0m\u001b[0;34m(\u001b[0m\u001b[0mmodel\u001b[0m\u001b[0;34m,\u001b[0m \u001b[0mtrain_iterator\u001b[0m\u001b[0;34m,\u001b[0m \u001b[0moptimizer\u001b[0m\u001b[0;34m,\u001b[0m \u001b[0mcriterion\u001b[0m\u001b[0;34m,\u001b[0m \u001b[0mCLIP\u001b[0m\u001b[0;34m,\u001b[0m \u001b[0mtrain_history\u001b[0m\u001b[0;34m,\u001b[0m \u001b[0mvalid_history\u001b[0m\u001b[0;34m)\u001b[0m\u001b[0;34m\u001b[0m\u001b[0;34m\u001b[0m\u001b[0m\n\u001b[0m\u001b[1;32m      6\u001b[0m     \u001b[0mvalid_loss\u001b[0m \u001b[0;34m=\u001b[0m \u001b[0mevaluate\u001b[0m\u001b[0;34m(\u001b[0m\u001b[0mmodel\u001b[0m\u001b[0;34m,\u001b[0m \u001b[0mvalid_iterator\u001b[0m\u001b[0;34m,\u001b[0m \u001b[0mcriterion\u001b[0m\u001b[0;34m)\u001b[0m\u001b[0;34m\u001b[0m\u001b[0;34m\u001b[0m\u001b[0m\n\u001b[1;32m      7\u001b[0m \u001b[0;34m\u001b[0m\u001b[0m\n",
            "\u001b[0;32m<ipython-input-36-764b3b5fdd47>\u001b[0m in \u001b[0;36mtrain\u001b[0;34m(model, iterator, optimizer, criterion, clip, train_history, valid_history)\u001b[0m\n\u001b[1;32m     11\u001b[0m         \u001b[0moptimizer\u001b[0m\u001b[0;34m.\u001b[0m\u001b[0mzero_grad\u001b[0m\u001b[0;34m(\u001b[0m\u001b[0;34m)\u001b[0m\u001b[0;34m\u001b[0m\u001b[0;34m\u001b[0m\u001b[0m\n\u001b[1;32m     12\u001b[0m \u001b[0;34m\u001b[0m\u001b[0m\n\u001b[0;32m---> 13\u001b[0;31m         \u001b[0moutput\u001b[0m \u001b[0;34m=\u001b[0m \u001b[0mmodel\u001b[0m\u001b[0;34m(\u001b[0m\u001b[0msrc\u001b[0m\u001b[0;34m,\u001b[0m \u001b[0mtrg\u001b[0m\u001b[0;34m)\u001b[0m\u001b[0;34m\u001b[0m\u001b[0;34m\u001b[0m\u001b[0m\n\u001b[0m\u001b[1;32m     14\u001b[0m \u001b[0;34m\u001b[0m\u001b[0m\n\u001b[1;32m     15\u001b[0m         \u001b[0;31m#trg = [trg sent len, batch size]\u001b[0m\u001b[0;34m\u001b[0m\u001b[0;34m\u001b[0m\u001b[0m\n",
            "\u001b[0;32m/usr/local/lib/python3.10/dist-packages/torch/nn/modules/module.py\u001b[0m in \u001b[0;36m_wrapped_call_impl\u001b[0;34m(self, *args, **kwargs)\u001b[0m\n\u001b[1;32m   1516\u001b[0m             \u001b[0;32mreturn\u001b[0m \u001b[0mself\u001b[0m\u001b[0;34m.\u001b[0m\u001b[0m_compiled_call_impl\u001b[0m\u001b[0;34m(\u001b[0m\u001b[0;34m*\u001b[0m\u001b[0margs\u001b[0m\u001b[0;34m,\u001b[0m \u001b[0;34m**\u001b[0m\u001b[0mkwargs\u001b[0m\u001b[0;34m)\u001b[0m  \u001b[0;31m# type: ignore[misc]\u001b[0m\u001b[0;34m\u001b[0m\u001b[0;34m\u001b[0m\u001b[0m\n\u001b[1;32m   1517\u001b[0m         \u001b[0;32melse\u001b[0m\u001b[0;34m:\u001b[0m\u001b[0;34m\u001b[0m\u001b[0;34m\u001b[0m\u001b[0m\n\u001b[0;32m-> 1518\u001b[0;31m             \u001b[0;32mreturn\u001b[0m \u001b[0mself\u001b[0m\u001b[0;34m.\u001b[0m\u001b[0m_call_impl\u001b[0m\u001b[0;34m(\u001b[0m\u001b[0;34m*\u001b[0m\u001b[0margs\u001b[0m\u001b[0;34m,\u001b[0m \u001b[0;34m**\u001b[0m\u001b[0mkwargs\u001b[0m\u001b[0;34m)\u001b[0m\u001b[0;34m\u001b[0m\u001b[0;34m\u001b[0m\u001b[0m\n\u001b[0m\u001b[1;32m   1519\u001b[0m \u001b[0;34m\u001b[0m\u001b[0m\n\u001b[1;32m   1520\u001b[0m     \u001b[0;32mdef\u001b[0m \u001b[0m_call_impl\u001b[0m\u001b[0;34m(\u001b[0m\u001b[0mself\u001b[0m\u001b[0;34m,\u001b[0m \u001b[0;34m*\u001b[0m\u001b[0margs\u001b[0m\u001b[0;34m,\u001b[0m \u001b[0;34m**\u001b[0m\u001b[0mkwargs\u001b[0m\u001b[0;34m)\u001b[0m\u001b[0;34m:\u001b[0m\u001b[0;34m\u001b[0m\u001b[0;34m\u001b[0m\u001b[0m\n",
            "\u001b[0;32m/usr/local/lib/python3.10/dist-packages/torch/nn/modules/module.py\u001b[0m in \u001b[0;36m_call_impl\u001b[0;34m(self, *args, **kwargs)\u001b[0m\n\u001b[1;32m   1525\u001b[0m                 \u001b[0;32mor\u001b[0m \u001b[0m_global_backward_pre_hooks\u001b[0m \u001b[0;32mor\u001b[0m \u001b[0m_global_backward_hooks\u001b[0m\u001b[0;34m\u001b[0m\u001b[0;34m\u001b[0m\u001b[0m\n\u001b[1;32m   1526\u001b[0m                 or _global_forward_hooks or _global_forward_pre_hooks):\n\u001b[0;32m-> 1527\u001b[0;31m             \u001b[0;32mreturn\u001b[0m \u001b[0mforward_call\u001b[0m\u001b[0;34m(\u001b[0m\u001b[0;34m*\u001b[0m\u001b[0margs\u001b[0m\u001b[0;34m,\u001b[0m \u001b[0;34m**\u001b[0m\u001b[0mkwargs\u001b[0m\u001b[0;34m)\u001b[0m\u001b[0;34m\u001b[0m\u001b[0;34m\u001b[0m\u001b[0m\n\u001b[0m\u001b[1;32m   1528\u001b[0m \u001b[0;34m\u001b[0m\u001b[0m\n\u001b[1;32m   1529\u001b[0m         \u001b[0;32mtry\u001b[0m\u001b[0;34m:\u001b[0m\u001b[0;34m\u001b[0m\u001b[0;34m\u001b[0m\u001b[0m\n",
            "\u001b[0;32m<ipython-input-31-b0a28ba307db>\u001b[0m in \u001b[0;36mforward\u001b[0;34m(self, src, trg, teacher_forcing_ratio)\u001b[0m\n\u001b[1;32m     93\u001b[0m \u001b[0;34m\u001b[0m\u001b[0m\n\u001b[1;32m     94\u001b[0m         \u001b[0;31m#last hidden state of the encoder is used as the initial hidden state of the decoder\u001b[0m\u001b[0;34m\u001b[0m\u001b[0;34m\u001b[0m\u001b[0m\n\u001b[0;32m---> 95\u001b[0;31m         \u001b[0mhidden\u001b[0m\u001b[0;34m,\u001b[0m \u001b[0mcell\u001b[0m \u001b[0;34m=\u001b[0m \u001b[0mself\u001b[0m\u001b[0;34m.\u001b[0m\u001b[0mencoder\u001b[0m\u001b[0;34m(\u001b[0m\u001b[0msrc\u001b[0m\u001b[0;34m)\u001b[0m\u001b[0;34m\u001b[0m\u001b[0;34m\u001b[0m\u001b[0m\n\u001b[0m\u001b[1;32m     96\u001b[0m \u001b[0;34m\u001b[0m\u001b[0m\n\u001b[1;32m     97\u001b[0m         \u001b[0;31m#first input to the decoder is the <sos> tokens\u001b[0m\u001b[0;34m\u001b[0m\u001b[0;34m\u001b[0m\u001b[0m\n",
            "\u001b[0;32m/usr/local/lib/python3.10/dist-packages/torch/nn/modules/module.py\u001b[0m in \u001b[0;36m_wrapped_call_impl\u001b[0;34m(self, *args, **kwargs)\u001b[0m\n\u001b[1;32m   1516\u001b[0m             \u001b[0;32mreturn\u001b[0m \u001b[0mself\u001b[0m\u001b[0;34m.\u001b[0m\u001b[0m_compiled_call_impl\u001b[0m\u001b[0;34m(\u001b[0m\u001b[0;34m*\u001b[0m\u001b[0margs\u001b[0m\u001b[0;34m,\u001b[0m \u001b[0;34m**\u001b[0m\u001b[0mkwargs\u001b[0m\u001b[0;34m)\u001b[0m  \u001b[0;31m# type: ignore[misc]\u001b[0m\u001b[0;34m\u001b[0m\u001b[0;34m\u001b[0m\u001b[0m\n\u001b[1;32m   1517\u001b[0m         \u001b[0;32melse\u001b[0m\u001b[0;34m:\u001b[0m\u001b[0;34m\u001b[0m\u001b[0;34m\u001b[0m\u001b[0m\n\u001b[0;32m-> 1518\u001b[0;31m             \u001b[0;32mreturn\u001b[0m \u001b[0mself\u001b[0m\u001b[0;34m.\u001b[0m\u001b[0m_call_impl\u001b[0m\u001b[0;34m(\u001b[0m\u001b[0;34m*\u001b[0m\u001b[0margs\u001b[0m\u001b[0;34m,\u001b[0m \u001b[0;34m**\u001b[0m\u001b[0mkwargs\u001b[0m\u001b[0;34m)\u001b[0m\u001b[0;34m\u001b[0m\u001b[0;34m\u001b[0m\u001b[0m\n\u001b[0m\u001b[1;32m   1519\u001b[0m \u001b[0;34m\u001b[0m\u001b[0m\n\u001b[1;32m   1520\u001b[0m     \u001b[0;32mdef\u001b[0m \u001b[0m_call_impl\u001b[0m\u001b[0;34m(\u001b[0m\u001b[0mself\u001b[0m\u001b[0;34m,\u001b[0m \u001b[0;34m*\u001b[0m\u001b[0margs\u001b[0m\u001b[0;34m,\u001b[0m \u001b[0;34m**\u001b[0m\u001b[0mkwargs\u001b[0m\u001b[0;34m)\u001b[0m\u001b[0;34m:\u001b[0m\u001b[0;34m\u001b[0m\u001b[0;34m\u001b[0m\u001b[0m\n",
            "\u001b[0;32m/usr/local/lib/python3.10/dist-packages/torch/nn/modules/module.py\u001b[0m in \u001b[0;36m_call_impl\u001b[0;34m(self, *args, **kwargs)\u001b[0m\n\u001b[1;32m   1525\u001b[0m                 \u001b[0;32mor\u001b[0m \u001b[0m_global_backward_pre_hooks\u001b[0m \u001b[0;32mor\u001b[0m \u001b[0m_global_backward_hooks\u001b[0m\u001b[0;34m\u001b[0m\u001b[0;34m\u001b[0m\u001b[0m\n\u001b[1;32m   1526\u001b[0m                 or _global_forward_hooks or _global_forward_pre_hooks):\n\u001b[0;32m-> 1527\u001b[0;31m             \u001b[0;32mreturn\u001b[0m \u001b[0mforward_call\u001b[0m\u001b[0;34m(\u001b[0m\u001b[0;34m*\u001b[0m\u001b[0margs\u001b[0m\u001b[0;34m,\u001b[0m \u001b[0;34m**\u001b[0m\u001b[0mkwargs\u001b[0m\u001b[0;34m)\u001b[0m\u001b[0;34m\u001b[0m\u001b[0;34m\u001b[0m\u001b[0m\n\u001b[0m\u001b[1;32m   1528\u001b[0m \u001b[0;34m\u001b[0m\u001b[0m\n\u001b[1;32m   1529\u001b[0m         \u001b[0;32mtry\u001b[0m\u001b[0;34m:\u001b[0m\u001b[0;34m\u001b[0m\u001b[0;34m\u001b[0m\u001b[0m\n",
            "\u001b[0;32m<ipython-input-31-b0a28ba307db>\u001b[0m in \u001b[0;36mforward\u001b[0;34m(self, src)\u001b[0m\n\u001b[1;32m     20\u001b[0m \u001b[0;34m\u001b[0m\u001b[0m\n\u001b[1;32m     21\u001b[0m     \u001b[0;32mdef\u001b[0m \u001b[0mforward\u001b[0m\u001b[0;34m(\u001b[0m\u001b[0mself\u001b[0m\u001b[0;34m,\u001b[0m \u001b[0msrc\u001b[0m\u001b[0;34m)\u001b[0m\u001b[0;34m:\u001b[0m\u001b[0;34m\u001b[0m\u001b[0;34m\u001b[0m\u001b[0m\n\u001b[0;32m---> 22\u001b[0;31m         \u001b[0membedded\u001b[0m \u001b[0;34m=\u001b[0m \u001b[0mself\u001b[0m\u001b[0;34m.\u001b[0m\u001b[0membedding\u001b[0m\u001b[0;34m[\u001b[0m\u001b[0msrc\u001b[0m\u001b[0;34m]\u001b[0m\u001b[0;34m.\u001b[0m\u001b[0mto\u001b[0m\u001b[0;34m(\u001b[0m\u001b[0;34m'cuda'\u001b[0m\u001b[0;34m)\u001b[0m\u001b[0;34m\u001b[0m\u001b[0;34m\u001b[0m\u001b[0m\n\u001b[0m\u001b[1;32m     23\u001b[0m         \u001b[0membedded\u001b[0m \u001b[0;34m=\u001b[0m \u001b[0mself\u001b[0m\u001b[0;34m.\u001b[0m\u001b[0mdropout\u001b[0m\u001b[0;34m(\u001b[0m\u001b[0membedded\u001b[0m\u001b[0;34m)\u001b[0m\u001b[0;34m\u001b[0m\u001b[0;34m\u001b[0m\u001b[0m\n\u001b[1;32m     24\u001b[0m         \u001b[0moutput\u001b[0m\u001b[0;34m,\u001b[0m \u001b[0;34m(\u001b[0m\u001b[0mhidden\u001b[0m\u001b[0;34m,\u001b[0m \u001b[0mcell\u001b[0m\u001b[0;34m)\u001b[0m \u001b[0;34m=\u001b[0m \u001b[0mself\u001b[0m\u001b[0;34m.\u001b[0m\u001b[0mrnn\u001b[0m\u001b[0;34m(\u001b[0m\u001b[0membedded\u001b[0m\u001b[0;34m)\u001b[0m\u001b[0;34m\u001b[0m\u001b[0;34m\u001b[0m\u001b[0m\n",
            "\u001b[0;31mRuntimeError\u001b[0m: indices should be either on cpu or on the same device as the indexed tensor (cpu)"
          ]
        }
      ],
      "source": [
        "for epoch in range(N_EPOCHS):\n",
        "    start_time = time.time()\n",
        "\n",
        "    train_loss = train(\n",
        "        model, train_iterator, optimizer, criterion, CLIP, train_history, valid_history\n",
        "    )\n",
        "    valid_loss = evaluate(model, valid_iterator, criterion)\n",
        "\n",
        "    end_time = time.time()\n",
        "\n",
        "    epoch_mins, epoch_secs = epoch_time(start_time, end_time)\n",
        "\n",
        "    if valid_loss < best_valid_loss:\n",
        "        best_valid_loss = valid_loss\n",
        "        torch.save(model.state_dict(), \"tut1-model.pt\")\n",
        "\n",
        "    train_history.append(train_loss)\n",
        "    valid_history.append(valid_loss)\n",
        "    print(f\"Epoch: {epoch+1:02} | Time: {epoch_mins}m {epoch_secs}s\")\n",
        "    print(f\"\\tTrain Loss: {train_loss:.3f} | Train PPL: {math.exp(train_loss):7.3f}\")\n",
        "    print(f\"\\t Val. Loss: {valid_loss:.3f} |  Val. PPL: {math.exp(valid_loss):7.3f}\")"
      ]
    },
    {
      "cell_type": "markdown",
      "metadata": {
        "id": "yCM6ovgGU0FS"
      },
      "source": [
        "__Let's take a look at our network quality__:"
      ]
    },
    {
      "cell_type": "code",
      "execution_count": null,
      "metadata": {
        "id": "-0LumkSyU0Fa"
      },
      "outputs": [],
      "source": [
        "del utils"
      ]
    },
    {
      "cell_type": "code",
      "execution_count": null,
      "metadata": {
        "id": "DSARg6vJU0Fa"
      },
      "outputs": [],
      "source": [
        "import utils\n",
        "import imp\n",
        "\n",
        "imp.reload(utils)\n",
        "generate_translation = utils.generate_translation\n",
        "remove_tech_tokens = utils.remove_tech_tokens\n",
        "get_text = utils.get_text\n",
        "flatten = utils.flatten"
      ]
    },
    {
      "cell_type": "code",
      "execution_count": null,
      "metadata": {
        "id": "EWqD9tyZU0Fa"
      },
      "outputs": [],
      "source": [
        "batch = next(iter(test_iterator))"
      ]
    },
    {
      "cell_type": "code",
      "execution_count": null,
      "metadata": {
        "colab": {
          "base_uri": "https://localhost:8080/",
          "height": 366
        },
        "id": "rKZUxW_VU0Fb",
        "outputId": "e14d5e0b-10db-4b83-9a8a-f1af15f11d9b"
      },
      "outputs": [
        {
          "ename": "AttributeError",
          "evalue": "ignored",
          "output_type": "error",
          "traceback": [
            "\u001b[0;31m---------------------------------------------------------------------------\u001b[0m",
            "\u001b[0;31mAttributeError\u001b[0m                            Traceback (most recent call last)",
            "\u001b[0;32m<ipython-input-87-e913f87646cb>\u001b[0m in \u001b[0;36m<cell line: 1>\u001b[0;34m()\u001b[0m\n\u001b[1;32m      2\u001b[0m     \u001b[0msrc\u001b[0m \u001b[0;34m=\u001b[0m \u001b[0mbatch\u001b[0m\u001b[0;34m.\u001b[0m\u001b[0msrc\u001b[0m\u001b[0;34m[\u001b[0m\u001b[0;34m:\u001b[0m\u001b[0;34m,\u001b[0m \u001b[0midx\u001b[0m\u001b[0;34m:\u001b[0m\u001b[0midx\u001b[0m\u001b[0;34m+\u001b[0m\u001b[0;36m1\u001b[0m\u001b[0;34m]\u001b[0m\u001b[0;34m\u001b[0m\u001b[0;34m\u001b[0m\u001b[0m\n\u001b[1;32m      3\u001b[0m     \u001b[0mtrg\u001b[0m \u001b[0;34m=\u001b[0m \u001b[0mbatch\u001b[0m\u001b[0;34m.\u001b[0m\u001b[0mtrg\u001b[0m\u001b[0;34m[\u001b[0m\u001b[0;34m:\u001b[0m\u001b[0;34m,\u001b[0m \u001b[0midx\u001b[0m\u001b[0;34m:\u001b[0m\u001b[0midx\u001b[0m\u001b[0;34m+\u001b[0m\u001b[0;36m1\u001b[0m\u001b[0;34m]\u001b[0m\u001b[0;34m\u001b[0m\u001b[0;34m\u001b[0m\u001b[0m\n\u001b[0;32m----> 4\u001b[0;31m     \u001b[0mgenerate_translation\u001b[0m\u001b[0;34m(\u001b[0m\u001b[0msrc\u001b[0m\u001b[0;34m,\u001b[0m \u001b[0mtrg\u001b[0m\u001b[0;34m,\u001b[0m \u001b[0mmodel\u001b[0m\u001b[0;34m,\u001b[0m \u001b[0mTRG\u001b[0m\u001b[0;34m.\u001b[0m\u001b[0mvocab\u001b[0m\u001b[0;34m)\u001b[0m\u001b[0;34m\u001b[0m\u001b[0;34m\u001b[0m\u001b[0m\n\u001b[0m",
            "\u001b[0;32m/content/utils.py\u001b[0m in \u001b[0;36mgenerate_translation\u001b[0;34m(src, trg, model, TRG_vocab)\u001b[0m\n\u001b[1;32m     23\u001b[0m     \u001b[0mmodel\u001b[0m\u001b[0;34m.\u001b[0m\u001b[0meval\u001b[0m\u001b[0;34m(\u001b[0m\u001b[0;34m)\u001b[0m\u001b[0;34m\u001b[0m\u001b[0;34m\u001b[0m\u001b[0m\n\u001b[1;32m     24\u001b[0m \u001b[0;34m\u001b[0m\u001b[0m\n\u001b[0;32m---> 25\u001b[0;31m     \u001b[0moutput\u001b[0m \u001b[0;34m=\u001b[0m \u001b[0mmodel\u001b[0m\u001b[0;34m(\u001b[0m\u001b[0msrc\u001b[0m\u001b[0;34m,\u001b[0m \u001b[0mtrg\u001b[0m\u001b[0;34m,\u001b[0m \u001b[0;36m0\u001b[0m\u001b[0;34m)\u001b[0m \u001b[0;31m#turn off teacher forcing\u001b[0m\u001b[0;34m\u001b[0m\u001b[0;34m\u001b[0m\u001b[0m\n\u001b[0m\u001b[1;32m     26\u001b[0m     \u001b[0moutput\u001b[0m \u001b[0;34m=\u001b[0m \u001b[0moutput\u001b[0m\u001b[0;34m.\u001b[0m\u001b[0margmax\u001b[0m\u001b[0;34m(\u001b[0m\u001b[0mdim\u001b[0m\u001b[0;34m=\u001b[0m\u001b[0;34m-\u001b[0m\u001b[0;36m1\u001b[0m\u001b[0;34m)\u001b[0m\u001b[0;34m.\u001b[0m\u001b[0mcpu\u001b[0m\u001b[0;34m(\u001b[0m\u001b[0;34m)\u001b[0m\u001b[0;34m.\u001b[0m\u001b[0mnumpy\u001b[0m\u001b[0;34m(\u001b[0m\u001b[0;34m)\u001b[0m\u001b[0;34m\u001b[0m\u001b[0;34m\u001b[0m\u001b[0m\n\u001b[1;32m     27\u001b[0m \u001b[0;34m\u001b[0m\u001b[0m\n",
            "\u001b[0;32m/usr/local/lib/python3.10/dist-packages/torch/nn/modules/module.py\u001b[0m in \u001b[0;36m_wrapped_call_impl\u001b[0;34m(self, *args, **kwargs)\u001b[0m\n\u001b[1;32m   1516\u001b[0m             \u001b[0;32mreturn\u001b[0m \u001b[0mself\u001b[0m\u001b[0;34m.\u001b[0m\u001b[0m_compiled_call_impl\u001b[0m\u001b[0;34m(\u001b[0m\u001b[0;34m*\u001b[0m\u001b[0margs\u001b[0m\u001b[0;34m,\u001b[0m \u001b[0;34m**\u001b[0m\u001b[0mkwargs\u001b[0m\u001b[0;34m)\u001b[0m  \u001b[0;31m# type: ignore[misc]\u001b[0m\u001b[0;34m\u001b[0m\u001b[0;34m\u001b[0m\u001b[0m\n\u001b[1;32m   1517\u001b[0m         \u001b[0;32melse\u001b[0m\u001b[0;34m:\u001b[0m\u001b[0;34m\u001b[0m\u001b[0;34m\u001b[0m\u001b[0m\n\u001b[0;32m-> 1518\u001b[0;31m             \u001b[0;32mreturn\u001b[0m \u001b[0mself\u001b[0m\u001b[0;34m.\u001b[0m\u001b[0m_call_impl\u001b[0m\u001b[0;34m(\u001b[0m\u001b[0;34m*\u001b[0m\u001b[0margs\u001b[0m\u001b[0;34m,\u001b[0m \u001b[0;34m**\u001b[0m\u001b[0mkwargs\u001b[0m\u001b[0;34m)\u001b[0m\u001b[0;34m\u001b[0m\u001b[0;34m\u001b[0m\u001b[0m\n\u001b[0m\u001b[1;32m   1519\u001b[0m \u001b[0;34m\u001b[0m\u001b[0m\n\u001b[1;32m   1520\u001b[0m     \u001b[0;32mdef\u001b[0m \u001b[0m_call_impl\u001b[0m\u001b[0;34m(\u001b[0m\u001b[0mself\u001b[0m\u001b[0;34m,\u001b[0m \u001b[0;34m*\u001b[0m\u001b[0margs\u001b[0m\u001b[0;34m,\u001b[0m \u001b[0;34m**\u001b[0m\u001b[0mkwargs\u001b[0m\u001b[0;34m)\u001b[0m\u001b[0;34m:\u001b[0m\u001b[0;34m\u001b[0m\u001b[0;34m\u001b[0m\u001b[0m\n",
            "\u001b[0;32m/usr/local/lib/python3.10/dist-packages/torch/nn/modules/module.py\u001b[0m in \u001b[0;36m_call_impl\u001b[0;34m(self, *args, **kwargs)\u001b[0m\n\u001b[1;32m   1525\u001b[0m                 \u001b[0;32mor\u001b[0m \u001b[0m_global_backward_pre_hooks\u001b[0m \u001b[0;32mor\u001b[0m \u001b[0m_global_backward_hooks\u001b[0m\u001b[0;34m\u001b[0m\u001b[0;34m\u001b[0m\u001b[0m\n\u001b[1;32m   1526\u001b[0m                 or _global_forward_hooks or _global_forward_pre_hooks):\n\u001b[0;32m-> 1527\u001b[0;31m             \u001b[0;32mreturn\u001b[0m \u001b[0mforward_call\u001b[0m\u001b[0;34m(\u001b[0m\u001b[0;34m*\u001b[0m\u001b[0margs\u001b[0m\u001b[0;34m,\u001b[0m \u001b[0;34m**\u001b[0m\u001b[0mkwargs\u001b[0m\u001b[0;34m)\u001b[0m\u001b[0;34m\u001b[0m\u001b[0;34m\u001b[0m\u001b[0m\n\u001b[0m\u001b[1;32m   1528\u001b[0m \u001b[0;34m\u001b[0m\u001b[0m\n\u001b[1;32m   1529\u001b[0m         \u001b[0;32mtry\u001b[0m\u001b[0;34m:\u001b[0m\u001b[0;34m\u001b[0m\u001b[0;34m\u001b[0m\u001b[0m\n",
            "\u001b[0;32m<ipython-input-71-94ff36ebabf7>\u001b[0m in \u001b[0;36mforward\u001b[0;34m(self, src, trg, teacher_forcing_ratio)\u001b[0m\n\u001b[1;32m     81\u001b[0m         \u001b[0mbatch_size\u001b[0m \u001b[0;34m=\u001b[0m \u001b[0mtrg\u001b[0m\u001b[0;34m.\u001b[0m\u001b[0mshape\u001b[0m\u001b[0;34m[\u001b[0m\u001b[0;36m1\u001b[0m\u001b[0;34m]\u001b[0m\u001b[0;34m\u001b[0m\u001b[0;34m\u001b[0m\u001b[0m\n\u001b[1;32m     82\u001b[0m         \u001b[0mmax_len\u001b[0m \u001b[0;34m=\u001b[0m \u001b[0mtrg\u001b[0m\u001b[0;34m.\u001b[0m\u001b[0mshape\u001b[0m\u001b[0;34m[\u001b[0m\u001b[0;36m0\u001b[0m\u001b[0;34m]\u001b[0m\u001b[0;34m\u001b[0m\u001b[0;34m\u001b[0m\u001b[0m\n\u001b[0;32m---> 83\u001b[0;31m         \u001b[0mtrg_vocab_size\u001b[0m \u001b[0;34m=\u001b[0m \u001b[0mself\u001b[0m\u001b[0;34m.\u001b[0m\u001b[0mdecoder\u001b[0m\u001b[0;34m.\u001b[0m\u001b[0moutput_dim\u001b[0m\u001b[0;34m\u001b[0m\u001b[0;34m\u001b[0m\u001b[0m\n\u001b[0m\u001b[1;32m     84\u001b[0m \u001b[0;34m\u001b[0m\u001b[0m\n\u001b[1;32m     85\u001b[0m         \u001b[0;31m#tensor to store decoder outputs\u001b[0m\u001b[0;34m\u001b[0m\u001b[0;34m\u001b[0m\u001b[0m\n",
            "\u001b[0;32m/usr/local/lib/python3.10/dist-packages/torch/nn/modules/module.py\u001b[0m in \u001b[0;36m__getattr__\u001b[0;34m(self, name)\u001b[0m\n\u001b[1;32m   1693\u001b[0m             \u001b[0;32mif\u001b[0m \u001b[0mname\u001b[0m \u001b[0;32min\u001b[0m \u001b[0mmodules\u001b[0m\u001b[0;34m:\u001b[0m\u001b[0;34m\u001b[0m\u001b[0;34m\u001b[0m\u001b[0m\n\u001b[1;32m   1694\u001b[0m                 \u001b[0;32mreturn\u001b[0m \u001b[0mmodules\u001b[0m\u001b[0;34m[\u001b[0m\u001b[0mname\u001b[0m\u001b[0;34m]\u001b[0m\u001b[0;34m\u001b[0m\u001b[0;34m\u001b[0m\u001b[0m\n\u001b[0;32m-> 1695\u001b[0;31m         \u001b[0;32mraise\u001b[0m \u001b[0mAttributeError\u001b[0m\u001b[0;34m(\u001b[0m\u001b[0;34mf\"'{type(self).__name__}' object has no attribute '{name}'\"\u001b[0m\u001b[0;34m)\u001b[0m\u001b[0;34m\u001b[0m\u001b[0;34m\u001b[0m\u001b[0m\n\u001b[0m\u001b[1;32m   1696\u001b[0m \u001b[0;34m\u001b[0m\u001b[0m\n\u001b[1;32m   1697\u001b[0m     \u001b[0;32mdef\u001b[0m \u001b[0m__setattr__\u001b[0m\u001b[0;34m(\u001b[0m\u001b[0mself\u001b[0m\u001b[0;34m,\u001b[0m \u001b[0mname\u001b[0m\u001b[0;34m:\u001b[0m \u001b[0mstr\u001b[0m\u001b[0;34m,\u001b[0m \u001b[0mvalue\u001b[0m\u001b[0;34m:\u001b[0m \u001b[0mUnion\u001b[0m\u001b[0;34m[\u001b[0m\u001b[0mTensor\u001b[0m\u001b[0;34m,\u001b[0m \u001b[0;34m'Module'\u001b[0m\u001b[0;34m]\u001b[0m\u001b[0;34m)\u001b[0m \u001b[0;34m->\u001b[0m \u001b[0;32mNone\u001b[0m\u001b[0;34m:\u001b[0m\u001b[0;34m\u001b[0m\u001b[0;34m\u001b[0m\u001b[0m\n",
            "\u001b[0;31mAttributeError\u001b[0m: 'Decoder' object has no attribute 'output_dim'"
          ]
        }
      ],
      "source": [
        "for idx in [1, 2]:\n",
        "    src = batch.src[:, idx : idx + 1]\n",
        "    trg = batch.trg[:, idx : idx + 1]\n",
        "    generate_translation(src, trg, model, TRG.vocab)"
      ]
    },
    {
      "cell_type": "code",
      "execution_count": null,
      "metadata": {
        "id": "wrS9NGJCU0Fb"
      },
      "outputs": [],
      "source": [
        "from nltk.translate.bleu_score import corpus_bleu\n",
        "\n",
        "#     \"\"\" Estimates corpora-level BLEU score of model's translations given inp and reference out \"\"\"\n",
        "#     translations, _ = model.translate_lines(inp_lines, **flags)\n",
        "#     # Note: if you experience out-of-memory error, split input lines into batches and translate separately\n",
        "#     return corpus_bleu([[ref] for ref in out_lines], translations) * 100"
      ]
    },
    {
      "cell_type": "code",
      "execution_count": null,
      "metadata": {
        "id": "DdgzGS7DU0Fb"
      },
      "outputs": [],
      "source": [
        "import tqdm"
      ]
    },
    {
      "cell_type": "code",
      "execution_count": null,
      "metadata": {
        "colab": {
          "base_uri": "https://localhost:8080/"
        },
        "id": "tWDdw528U0Fb",
        "outputId": "00a1be4b-a40a-4099-eeb3-b2e5bd42823e"
      },
      "outputs": [
        {
          "name": "stderr",
          "output_type": "stream",
          "text": [
            "59it [00:07,  8.13it/s]\n"
          ]
        }
      ],
      "source": [
        "original_text = []\n",
        "generated_text = []\n",
        "model.eval()\n",
        "with torch.no_grad():\n",
        "    for i, batch in tqdm.tqdm(enumerate(test_iterator)):\n",
        "        src = batch.src\n",
        "        trg = batch.trg\n",
        "\n",
        "        output = model(src, trg, 0)  # turn off teacher forcing\n",
        "\n",
        "        # trg = [trg sent len, batch size]\n",
        "        # output = [trg sent len, batch size, output dim]\n",
        "\n",
        "        output = output.argmax(dim=-1)\n",
        "\n",
        "        original_text.extend([get_text(x, TRG.vocab) for x in trg.cpu().numpy().T])\n",
        "        generated_text.extend(\n",
        "            [get_text(x, TRG.vocab) for x in output[1:].detach().cpu().numpy().T]\n",
        "        )\n",
        "\n",
        "# original_text = flatten(original_text)\n",
        "# generated_text = flatten(generated_text)"
      ]
    },
    {
      "cell_type": "code",
      "execution_count": null,
      "metadata": {
        "colab": {
          "base_uri": "https://localhost:8080/"
        },
        "id": "-FNlYIrDU0Fb",
        "outputId": "3f242005-3aa0-4f9c-90ec-cb154f08a6b9"
      },
      "outputs": [
        {
          "data": {
            "text/plain": [
              "13.505832172804677"
            ]
          },
          "execution_count": 67,
          "metadata": {},
          "output_type": "execute_result"
        }
      ],
      "source": [
        "corpus_bleu([[text] for text in original_text], generated_text) * 100"
      ]
    },
    {
      "cell_type": "markdown",
      "metadata": {
        "id": "r96sQB2UU0Fb"
      },
      "source": [
        "Baseline solution BLEU score is quite low. Try to achieve at least __18__ BLEU on the test set.\n",
        "The checkpoints are:\n",
        "\n",
        "* __18__ - minimal score to submit the homework, 30% of points\n",
        "\n",
        "* __20__ - good score, 70% of points\n",
        "\n",
        "* __25__ - excellent score, 100% of points"
      ]
    }
  ],
  "metadata": {
    "anaconda-cloud": {},
    "colab": {
      "provenance": []
    },
    "kernelspec": {
      "display_name": "Python 3",
      "name": "python3"
    },
    "language_info": {
      "codemirror_mode": {
        "name": "ipython",
        "version": 3
      },
      "file_extension": ".py",
      "mimetype": "text/x-python",
      "name": "python",
      "nbconvert_exporter": "python",
      "pygments_lexer": "ipython3",
      "version": "3.11.6"
    }
  },
  "nbformat": 4,
  "nbformat_minor": 0
}
